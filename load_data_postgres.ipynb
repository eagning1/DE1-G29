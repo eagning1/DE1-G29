{
 "cells": [
  {
   "cell_type": "code",
   "execution_count": 1,
   "id": "aa047644-8ebd-42f6-9226-7f98a653f3de",
   "metadata": {},
   "outputs": [],
   "source": [
    "from pyspark.sql import SparkSession\n",
    "from pyspark.sql.functions import col, split, explode, when, lit\n",
    "from pyspark.sql.types import StructType, StructField, StringType, IntegerType, BooleanType\n",
    "import time\n",
    "\n",
    "# Initialize SparkSession with optimized settings\n",
    "spark = SparkSession.builder \\\n",
    "    .master(\"spark://192.168.2.205:7077\") \\\n",
    "    .appName(\"LoadLargeLyricsDataToPostgres\") \\\n",
    "    .config(\"spark.jars\", \"/home/ubuntu/postgresql-42.5.0.jar\") \\\n",
    "    .config(\"spark.executor.instances\", \"4\") \\\n",
    "    .config(\"spark.executor.cores\", \"4\") \\\n",
    "    .config(\"spark.executor.memory\", \"8g\") \\\n",
    "    .config(\"spark.default.parallelism\", \"16\") \\\n",
    "    .config(\"spark.sql.shuffle.partitions\", \"16\") \\\n",
    "    .getOrCreate()"
   ]
  },
  {
   "cell_type": "code",
   "execution_count": 2,
   "id": "ce0b4028-b871-41c8-a676-8007b42786e7",
   "metadata": {},
   "outputs": [
    {
     "name": "stdout",
     "output_type": "stream",
     "text": [
      "Cluster Info:\n",
      "Map(group29:38551 -> (384093388,384093388))\n"
     ]
    }
   ],
   "source": [
    "# Verify cluster setup\n",
    "print(\"Cluster Info:\")\n",
    "print(spark.sparkContext._jsc.sc().getExecutorMemoryStatus())"
   ]
  },
  {
   "cell_type": "code",
   "execution_count": null,
   "id": "3895850d-e5c4-4852-b390-14ec3189925e",
   "metadata": {},
   "outputs": [],
   "source": [
    "import pandas as pd\n",
    "from sqlalchemy import create_engine\n",
    "\n",
    "# PostgreSQL connection details\n",
    "db_user = \"sparkuser\"\n",
    "db_password = \"9567\"\n",
    "db_host = \"localhost\"  # Change if needed\n",
    "db_port = \"5432\"  # Default PostgreSQL port\n",
    "db_name = \"lyricsdb\"\n",
    "\n",
    "# Create SQLAlchemy engine\n",
    "engine = create_engine(f\"postgresql+psycopg2://{db_user}:{db_password}@{db_host}:{db_port}/{db_name}\")\n",
    "\n",
    "# Append data to an existing table\n",
    "# words_df.to_sql(\"words\", engine, if_exists=\"append\", index=False)"
   ]
  }
 ],
 "metadata": {
  "kernelspec": {
   "display_name": "Python 3 (ipykernel)",
   "language": "python",
   "name": "python3"
  },
  "language_info": {
   "codemirror_mode": {
    "name": "ipython",
    "version": 3
   },
   "file_extension": ".py",
   "mimetype": "text/x-python",
   "name": "python",
   "nbconvert_exporter": "python",
   "pygments_lexer": "ipython3",
   "version": "3.10.12"
  }
 },
 "nbformat": 4,
 "nbformat_minor": 5
}
