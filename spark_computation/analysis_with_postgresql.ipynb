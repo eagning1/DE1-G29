{
 "cells": [
  {
   "cell_type": "code",
   "execution_count": 1,
   "id": "096d40e6-7e02-4056-b692-f68afcaefc39",
   "metadata": {},
   "outputs": [
    {
     "name": "stderr",
     "output_type": "stream",
     "text": [
      "Setting default log level to \"WARN\".\n",
      "To adjust logging level use sc.setLogLevel(newLevel). For SparkR, use setLogLevel(newLevel).\n",
      "25/03/25 21:02:42 WARN NativeCodeLoader: Unable to load native-hadoop library for your platform... using builtin-java classes where applicable\n",
      "25/03/25 21:02:45 WARN SparkSession: Using an existing Spark session; only runtime SQL configurations will take effect.\n",
      "/home/ubuntu/.local/lib/python3.10/site-packages/pyspark/sql/context.py:113: FutureWarning: Deprecated in 3.0.0. Use SparkSession.builder.getOrCreate() instead.\n",
      "  warnings.warn(\n"
     ]
    },
    {
     "name": "stdout",
     "output_type": "stream",
     "text": [
      "Running with workers=1, data_fraction=0.01, cores=1...\n",
      "Loading partition: ('a', 'g')\n",
      "Reconstructing lyrics...\n",
      "Lyrics reconstructed.\n"
     ]
    },
    {
     "name": "stderr",
     "output_type": "stream",
     "text": [
      "                                                                                "
     ]
    },
    {
     "name": "stdout",
     "output_type": "stream",
     "text": [
      "full_lyrics_df: 56960\n"
     ]
    },
    {
     "name": "stderr",
     "output_type": "stream",
     "text": [
      "                                                                                "
     ]
    },
    {
     "name": "stdout",
     "output_type": "stream",
     "text": [
      "Sample data rows after fractioning: 567\n",
      "Data loaded successfully.\n"
     ]
    },
    {
     "name": "stderr",
     "output_type": "stream",
     "text": [
      "                                                                                "
     ]
    },
    {
     "name": "stdout",
     "output_type": "stream",
     "text": [
      "Total rows: 567\n"
     ]
    },
    {
     "name": "stderr",
     "output_type": "stream",
     "text": [
      "                                                                                "
     ]
    },
    {
     "name": "stdout",
     "output_type": "stream",
     "text": [
      "[Row(sentiment='positive', count=316), Row(sentiment='negative', count=226), Row(sentiment='neutral', count=25)] for partition ('a', 'g')\n",
      "Loading partition: ('h', 'n')\n",
      "Reconstructing lyrics...\n",
      "Lyrics reconstructed.\n"
     ]
    },
    {
     "name": "stderr",
     "output_type": "stream",
     "text": [
      "                                                                                "
     ]
    },
    {
     "name": "stdout",
     "output_type": "stream",
     "text": [
      "full_lyrics_df: 56804\n"
     ]
    },
    {
     "name": "stderr",
     "output_type": "stream",
     "text": [
      "                                                                                "
     ]
    },
    {
     "name": "stdout",
     "output_type": "stream",
     "text": [
      "Sample data rows after fractioning: 565\n",
      "Data loaded successfully.\n"
     ]
    },
    {
     "name": "stderr",
     "output_type": "stream",
     "text": [
      "                                                                                "
     ]
    },
    {
     "name": "stdout",
     "output_type": "stream",
     "text": [
      "Total rows: 565\n"
     ]
    },
    {
     "name": "stderr",
     "output_type": "stream",
     "text": [
      "                                                                                "
     ]
    },
    {
     "name": "stdout",
     "output_type": "stream",
     "text": [
      "[Row(sentiment='positive', count=322), Row(sentiment='negative', count=212), Row(sentiment='neutral', count=31)] for partition ('h', 'n')\n",
      "Loading partition: ('o', 'u')\n",
      "Reconstructing lyrics...\n",
      "Lyrics reconstructed.\n"
     ]
    },
    {
     "name": "stderr",
     "output_type": "stream",
     "text": [
      "                                                                                "
     ]
    },
    {
     "name": "stdout",
     "output_type": "stream",
     "text": [
      "full_lyrics_df: 56812\n"
     ]
    },
    {
     "name": "stderr",
     "output_type": "stream",
     "text": [
      "                                                                                "
     ]
    },
    {
     "name": "stdout",
     "output_type": "stream",
     "text": [
      "Sample data rows after fractioning: 565\n",
      "Data loaded successfully.\n"
     ]
    },
    {
     "name": "stderr",
     "output_type": "stream",
     "text": [
      "                                                                                "
     ]
    },
    {
     "name": "stdout",
     "output_type": "stream",
     "text": [
      "Total rows: 565\n"
     ]
    },
    {
     "name": "stderr",
     "output_type": "stream",
     "text": [
      "                                                                                "
     ]
    },
    {
     "name": "stdout",
     "output_type": "stream",
     "text": [
      "[Row(sentiment='positive', count=311), Row(sentiment='negative', count=221), Row(sentiment='neutral', count=33)] for partition ('o', 'u')\n",
      "Loading partition: ('v', 'z')\n",
      "Reconstructing lyrics...\n",
      "Lyrics reconstructed.\n"
     ]
    },
    {
     "name": "stderr",
     "output_type": "stream",
     "text": [
      "                                                                                "
     ]
    },
    {
     "name": "stdout",
     "output_type": "stream",
     "text": [
      "full_lyrics_df: 32082\n"
     ]
    },
    {
     "name": "stderr",
     "output_type": "stream",
     "text": [
      "                                                                                "
     ]
    },
    {
     "name": "stdout",
     "output_type": "stream",
     "text": [
      "Sample data rows after fractioning: 301\n",
      "Data loaded successfully.\n"
     ]
    },
    {
     "name": "stderr",
     "output_type": "stream",
     "text": [
      "                                                                                "
     ]
    },
    {
     "name": "stdout",
     "output_type": "stream",
     "text": [
      "Total rows: 301\n"
     ]
    },
    {
     "name": "stderr",
     "output_type": "stream",
     "text": [
      "                                                                                "
     ]
    },
    {
     "name": "stdout",
     "output_type": "stream",
     "text": [
      "[Row(sentiment='positive', count=160), Row(sentiment='neutral', count=13), Row(sentiment='negative', count=128)] for partition ('v', 'z')\n",
      "\n",
      "Final aggregated sentiment counts across all partitions:\n",
      "positive: 1109\n",
      "negative: 787\n",
      "neutral: 102\n",
      "Running with workers=1, data_fraction=0.01, cores=2...\n",
      "Loading partition: ('a', 'g')\n",
      "Reconstructing lyrics...\n",
      "Lyrics reconstructed.\n"
     ]
    },
    {
     "name": "stderr",
     "output_type": "stream",
     "text": [
      "                                                                                "
     ]
    },
    {
     "name": "stdout",
     "output_type": "stream",
     "text": [
      "full_lyrics_df: 56960\n"
     ]
    },
    {
     "name": "stderr",
     "output_type": "stream",
     "text": [
      "                                                                                "
     ]
    },
    {
     "name": "stdout",
     "output_type": "stream",
     "text": [
      "Sample data rows after fractioning: 567\n",
      "Data loaded successfully.\n"
     ]
    },
    {
     "name": "stderr",
     "output_type": "stream",
     "text": [
      "                                                                                "
     ]
    },
    {
     "name": "stdout",
     "output_type": "stream",
     "text": [
      "Total rows: 567\n"
     ]
    },
    {
     "name": "stderr",
     "output_type": "stream",
     "text": [
      "                                                                                "
     ]
    },
    {
     "name": "stdout",
     "output_type": "stream",
     "text": [
      "[Row(sentiment='positive', count=316), Row(sentiment='negative', count=226), Row(sentiment='neutral', count=25)] for partition ('a', 'g')\n",
      "Loading partition: ('h', 'n')\n",
      "Reconstructing lyrics...\n",
      "Lyrics reconstructed.\n"
     ]
    },
    {
     "name": "stderr",
     "output_type": "stream",
     "text": [
      "                                                                                "
     ]
    },
    {
     "name": "stdout",
     "output_type": "stream",
     "text": [
      "full_lyrics_df: 56804\n"
     ]
    },
    {
     "name": "stderr",
     "output_type": "stream",
     "text": [
      "                                                                                "
     ]
    },
    {
     "name": "stdout",
     "output_type": "stream",
     "text": [
      "Sample data rows after fractioning: 565\n",
      "Data loaded successfully.\n"
     ]
    },
    {
     "name": "stderr",
     "output_type": "stream",
     "text": [
      "                                                                                "
     ]
    },
    {
     "name": "stdout",
     "output_type": "stream",
     "text": [
      "Total rows: 565\n"
     ]
    },
    {
     "name": "stderr",
     "output_type": "stream",
     "text": [
      "                                                                                "
     ]
    },
    {
     "name": "stdout",
     "output_type": "stream",
     "text": [
      "[Row(sentiment='positive', count=322), Row(sentiment='negative', count=212), Row(sentiment='neutral', count=31)] for partition ('h', 'n')\n",
      "Loading partition: ('o', 'u')\n",
      "Reconstructing lyrics...\n",
      "Lyrics reconstructed.\n"
     ]
    },
    {
     "name": "stderr",
     "output_type": "stream",
     "text": [
      "                                                                                "
     ]
    },
    {
     "name": "stdout",
     "output_type": "stream",
     "text": [
      "full_lyrics_df: 56812\n"
     ]
    },
    {
     "name": "stderr",
     "output_type": "stream",
     "text": [
      "                                                                                "
     ]
    },
    {
     "name": "stdout",
     "output_type": "stream",
     "text": [
      "Sample data rows after fractioning: 565\n",
      "Data loaded successfully.\n"
     ]
    },
    {
     "name": "stderr",
     "output_type": "stream",
     "text": [
      "                                                                                "
     ]
    },
    {
     "name": "stdout",
     "output_type": "stream",
     "text": [
      "Total rows: 565\n"
     ]
    },
    {
     "name": "stderr",
     "output_type": "stream",
     "text": [
      "                                                                                "
     ]
    },
    {
     "name": "stdout",
     "output_type": "stream",
     "text": [
      "[Row(sentiment='positive', count=311), Row(sentiment='negative', count=221), Row(sentiment='neutral', count=33)] for partition ('o', 'u')\n",
      "Loading partition: ('v', 'z')\n",
      "Reconstructing lyrics...\n",
      "Lyrics reconstructed.\n"
     ]
    },
    {
     "name": "stderr",
     "output_type": "stream",
     "text": [
      "                                                                                "
     ]
    },
    {
     "name": "stdout",
     "output_type": "stream",
     "text": [
      "full_lyrics_df: 32082\n"
     ]
    },
    {
     "name": "stderr",
     "output_type": "stream",
     "text": [
      "                                                                                "
     ]
    },
    {
     "name": "stdout",
     "output_type": "stream",
     "text": [
      "Sample data rows after fractioning: 301\n",
      "Data loaded successfully.\n"
     ]
    },
    {
     "name": "stderr",
     "output_type": "stream",
     "text": [
      "                                                                                "
     ]
    },
    {
     "name": "stdout",
     "output_type": "stream",
     "text": [
      "Total rows: 301\n"
     ]
    },
    {
     "name": "stderr",
     "output_type": "stream",
     "text": [
      "                                                                                "
     ]
    },
    {
     "name": "stdout",
     "output_type": "stream",
     "text": [
      "[Row(sentiment='positive', count=160), Row(sentiment='neutral', count=13), Row(sentiment='negative', count=128)] for partition ('v', 'z')\n",
      "\n",
      "Final aggregated sentiment counts across all partitions:\n",
      "positive: 1109\n",
      "negative: 787\n",
      "neutral: 102\n",
      "Running with workers=1, data_fraction=0.01, cores=4...\n",
      "Loading partition: ('a', 'g')\n",
      "Reconstructing lyrics...\n",
      "Lyrics reconstructed.\n"
     ]
    },
    {
     "name": "stderr",
     "output_type": "stream",
     "text": [
      "                                                                                "
     ]
    },
    {
     "name": "stdout",
     "output_type": "stream",
     "text": [
      "full_lyrics_df: 56960\n"
     ]
    },
    {
     "name": "stderr",
     "output_type": "stream",
     "text": [
      "                                                                                "
     ]
    },
    {
     "name": "stdout",
     "output_type": "stream",
     "text": [
      "Sample data rows after fractioning: 567\n",
      "Data loaded successfully.\n"
     ]
    },
    {
     "name": "stderr",
     "output_type": "stream",
     "text": [
      "                                                                                "
     ]
    },
    {
     "name": "stdout",
     "output_type": "stream",
     "text": [
      "Total rows: 567\n"
     ]
    },
    {
     "name": "stderr",
     "output_type": "stream",
     "text": [
      "                                                                                "
     ]
    },
    {
     "name": "stdout",
     "output_type": "stream",
     "text": [
      "[Row(sentiment='positive', count=316), Row(sentiment='negative', count=226), Row(sentiment='neutral', count=25)] for partition ('a', 'g')\n",
      "Loading partition: ('h', 'n')\n",
      "Reconstructing lyrics...\n",
      "Lyrics reconstructed.\n"
     ]
    },
    {
     "name": "stderr",
     "output_type": "stream",
     "text": [
      "                                                                                "
     ]
    },
    {
     "name": "stdout",
     "output_type": "stream",
     "text": [
      "full_lyrics_df: 56804\n"
     ]
    },
    {
     "name": "stderr",
     "output_type": "stream",
     "text": [
      "                                                                                "
     ]
    },
    {
     "name": "stdout",
     "output_type": "stream",
     "text": [
      "Sample data rows after fractioning: 565\n",
      "Data loaded successfully.\n"
     ]
    },
    {
     "name": "stderr",
     "output_type": "stream",
     "text": [
      "                                                                                "
     ]
    },
    {
     "name": "stdout",
     "output_type": "stream",
     "text": [
      "Total rows: 565\n"
     ]
    },
    {
     "name": "stderr",
     "output_type": "stream",
     "text": [
      "                                                                                "
     ]
    },
    {
     "name": "stdout",
     "output_type": "stream",
     "text": [
      "[Row(sentiment='positive', count=322), Row(sentiment='negative', count=212), Row(sentiment='neutral', count=31)] for partition ('h', 'n')\n",
      "Loading partition: ('o', 'u')\n",
      "Reconstructing lyrics...\n",
      "Lyrics reconstructed.\n"
     ]
    },
    {
     "name": "stderr",
     "output_type": "stream",
     "text": [
      "                                                                                "
     ]
    },
    {
     "name": "stdout",
     "output_type": "stream",
     "text": [
      "full_lyrics_df: 56812\n"
     ]
    },
    {
     "name": "stderr",
     "output_type": "stream",
     "text": [
      "                                                                                "
     ]
    },
    {
     "name": "stdout",
     "output_type": "stream",
     "text": [
      "Sample data rows after fractioning: 565\n",
      "Data loaded successfully.\n"
     ]
    },
    {
     "name": "stderr",
     "output_type": "stream",
     "text": [
      "                                                                                "
     ]
    },
    {
     "name": "stdout",
     "output_type": "stream",
     "text": [
      "Total rows: 565\n"
     ]
    },
    {
     "name": "stderr",
     "output_type": "stream",
     "text": [
      "                                                                                "
     ]
    },
    {
     "name": "stdout",
     "output_type": "stream",
     "text": [
      "[Row(sentiment='positive', count=311), Row(sentiment='negative', count=221), Row(sentiment='neutral', count=33)] for partition ('o', 'u')\n",
      "Loading partition: ('v', 'z')\n",
      "Reconstructing lyrics...\n",
      "Lyrics reconstructed.\n"
     ]
    },
    {
     "name": "stderr",
     "output_type": "stream",
     "text": [
      "                                                                                "
     ]
    },
    {
     "name": "stdout",
     "output_type": "stream",
     "text": [
      "full_lyrics_df: 32082\n"
     ]
    },
    {
     "name": "stderr",
     "output_type": "stream",
     "text": [
      "                                                                                "
     ]
    },
    {
     "name": "stdout",
     "output_type": "stream",
     "text": [
      "Sample data rows after fractioning: 301\n",
      "Data loaded successfully.\n"
     ]
    },
    {
     "name": "stderr",
     "output_type": "stream",
     "text": [
      "                                                                                "
     ]
    },
    {
     "name": "stdout",
     "output_type": "stream",
     "text": [
      "Total rows: 301\n"
     ]
    },
    {
     "name": "stderr",
     "output_type": "stream",
     "text": [
      "                                                                                "
     ]
    },
    {
     "name": "stdout",
     "output_type": "stream",
     "text": [
      "[Row(sentiment='positive', count=160), Row(sentiment='neutral', count=13), Row(sentiment='negative', count=128)] for partition ('v', 'z')\n",
      "\n",
      "Final aggregated sentiment counts across all partitions:\n",
      "positive: 1109\n",
      "negative: 787\n",
      "neutral: 102\n",
      "Running with workers=1, data_fraction=0.04, cores=1...\n",
      "Loading partition: ('a', 'g')\n",
      "Reconstructing lyrics...\n",
      "Lyrics reconstructed.\n"
     ]
    },
    {
     "name": "stderr",
     "output_type": "stream",
     "text": [
      "                                                                                "
     ]
    },
    {
     "name": "stdout",
     "output_type": "stream",
     "text": [
      "full_lyrics_df: 56960\n"
     ]
    },
    {
     "name": "stderr",
     "output_type": "stream",
     "text": [
      "                                                                                "
     ]
    },
    {
     "name": "stdout",
     "output_type": "stream",
     "text": [
      "Sample data rows after fractioning: 2251\n",
      "Data loaded successfully.\n"
     ]
    },
    {
     "name": "stderr",
     "output_type": "stream",
     "text": [
      "                                                                                "
     ]
    },
    {
     "name": "stdout",
     "output_type": "stream",
     "text": [
      "Total rows: 2251\n"
     ]
    },
    {
     "name": "stderr",
     "output_type": "stream",
     "text": [
      "                                                                                "
     ]
    },
    {
     "name": "stdout",
     "output_type": "stream",
     "text": [
      "[Row(sentiment='positive', count=1284), Row(sentiment='negative', count=835), Row(sentiment='neutral', count=132)] for partition ('a', 'g')\n",
      "Loading partition: ('h', 'n')\n",
      "Reconstructing lyrics...\n",
      "Lyrics reconstructed.\n"
     ]
    },
    {
     "name": "stderr",
     "output_type": "stream",
     "text": [
      "                                                                                "
     ]
    },
    {
     "name": "stdout",
     "output_type": "stream",
     "text": [
      "full_lyrics_df: 56804\n"
     ]
    },
    {
     "name": "stderr",
     "output_type": "stream",
     "text": [
      "                                                                                "
     ]
    },
    {
     "name": "stdout",
     "output_type": "stream",
     "text": [
      "Sample data rows after fractioning: 2244\n",
      "Data loaded successfully.\n"
     ]
    },
    {
     "name": "stderr",
     "output_type": "stream",
     "text": [
      "                                                                                "
     ]
    },
    {
     "name": "stdout",
     "output_type": "stream",
     "text": [
      "Total rows: 2244\n"
     ]
    },
    {
     "name": "stderr",
     "output_type": "stream",
     "text": [
      "                                                                                "
     ]
    },
    {
     "name": "stdout",
     "output_type": "stream",
     "text": [
      "[Row(sentiment='positive', count=1274), Row(sentiment='negative', count=847), Row(sentiment='neutral', count=124)] for partition ('h', 'n')\n",
      "Loading partition: ('o', 'u')\n",
      "Reconstructing lyrics...\n",
      "Lyrics reconstructed.\n"
     ]
    },
    {
     "name": "stderr",
     "output_type": "stream",
     "text": [
      "                                                                                "
     ]
    },
    {
     "name": "stdout",
     "output_type": "stream",
     "text": [
      "full_lyrics_df: 56812\n"
     ]
    },
    {
     "name": "stderr",
     "output_type": "stream",
     "text": [
      "                                                                                "
     ]
    },
    {
     "name": "stdout",
     "output_type": "stream",
     "text": [
      "Sample data rows after fractioning: 2245\n",
      "Data loaded successfully.\n"
     ]
    },
    {
     "name": "stderr",
     "output_type": "stream",
     "text": [
      "                                                                                "
     ]
    },
    {
     "name": "stdout",
     "output_type": "stream",
     "text": [
      "Total rows: 2245\n"
     ]
    },
    {
     "name": "stderr",
     "output_type": "stream",
     "text": [
      "                                                                                "
     ]
    },
    {
     "name": "stdout",
     "output_type": "stream",
     "text": [
      "[Row(sentiment='positive', count=1249), Row(sentiment='neutral', count=117), Row(sentiment='negative', count=878)] for partition ('o', 'u')\n",
      "Loading partition: ('v', 'z')\n",
      "Reconstructing lyrics...\n",
      "Lyrics reconstructed.\n"
     ]
    },
    {
     "name": "stderr",
     "output_type": "stream",
     "text": [
      "                                                                                "
     ]
    },
    {
     "name": "stdout",
     "output_type": "stream",
     "text": [
      "full_lyrics_df: 32082\n"
     ]
    },
    {
     "name": "stderr",
     "output_type": "stream",
     "text": [
      "                                                                                "
     ]
    },
    {
     "name": "stdout",
     "output_type": "stream",
     "text": [
      "Sample data rows after fractioning: 1242\n",
      "Data loaded successfully.\n"
     ]
    },
    {
     "name": "stderr",
     "output_type": "stream",
     "text": [
      "                                                                                "
     ]
    },
    {
     "name": "stdout",
     "output_type": "stream",
     "text": [
      "Total rows: 1242\n"
     ]
    },
    {
     "name": "stderr",
     "output_type": "stream",
     "text": [
      "                                                                                "
     ]
    },
    {
     "name": "stdout",
     "output_type": "stream",
     "text": [
      "[Row(sentiment='positive', count=690), Row(sentiment='negative', count=492), Row(sentiment='neutral', count=61)] for partition ('v', 'z')\n",
      "\n",
      "Final aggregated sentiment counts across all partitions:\n",
      "positive: 4497\n",
      "negative: 3052\n",
      "neutral: 434\n",
      "Running with workers=1, data_fraction=0.04, cores=2...\n",
      "Loading partition: ('a', 'g')\n",
      "Reconstructing lyrics...\n",
      "Lyrics reconstructed.\n"
     ]
    },
    {
     "name": "stderr",
     "output_type": "stream",
     "text": [
      "                                                                                "
     ]
    },
    {
     "name": "stdout",
     "output_type": "stream",
     "text": [
      "full_lyrics_df: 56960\n"
     ]
    },
    {
     "name": "stderr",
     "output_type": "stream",
     "text": [
      "                                                                                "
     ]
    },
    {
     "name": "stdout",
     "output_type": "stream",
     "text": [
      "Sample data rows after fractioning: 2251\n",
      "Data loaded successfully.\n"
     ]
    },
    {
     "name": "stderr",
     "output_type": "stream",
     "text": [
      "                                                                                "
     ]
    },
    {
     "name": "stdout",
     "output_type": "stream",
     "text": [
      "Total rows: 2251\n"
     ]
    },
    {
     "name": "stderr",
     "output_type": "stream",
     "text": [
      "                                                                                "
     ]
    },
    {
     "name": "stdout",
     "output_type": "stream",
     "text": [
      "[Row(sentiment='positive', count=1284), Row(sentiment='negative', count=835), Row(sentiment='neutral', count=132)] for partition ('a', 'g')\n",
      "Loading partition: ('h', 'n')\n",
      "Reconstructing lyrics...\n",
      "Lyrics reconstructed.\n"
     ]
    },
    {
     "name": "stderr",
     "output_type": "stream",
     "text": [
      "                                                                                "
     ]
    },
    {
     "name": "stdout",
     "output_type": "stream",
     "text": [
      "full_lyrics_df: 56804\n"
     ]
    },
    {
     "name": "stderr",
     "output_type": "stream",
     "text": [
      "                                                                                "
     ]
    },
    {
     "name": "stdout",
     "output_type": "stream",
     "text": [
      "Sample data rows after fractioning: 2244\n",
      "Data loaded successfully.\n"
     ]
    },
    {
     "name": "stderr",
     "output_type": "stream",
     "text": [
      "                                                                                "
     ]
    },
    {
     "name": "stdout",
     "output_type": "stream",
     "text": [
      "Total rows: 2244\n"
     ]
    },
    {
     "name": "stderr",
     "output_type": "stream",
     "text": [
      "                                                                                "
     ]
    },
    {
     "name": "stdout",
     "output_type": "stream",
     "text": [
      "[Row(sentiment='positive', count=1274), Row(sentiment='negative', count=847), Row(sentiment='neutral', count=124)] for partition ('h', 'n')\n",
      "Loading partition: ('o', 'u')\n",
      "Reconstructing lyrics...\n",
      "Lyrics reconstructed.\n"
     ]
    },
    {
     "name": "stderr",
     "output_type": "stream",
     "text": [
      "                                                                                "
     ]
    },
    {
     "name": "stdout",
     "output_type": "stream",
     "text": [
      "full_lyrics_df: 56812\n"
     ]
    },
    {
     "name": "stderr",
     "output_type": "stream",
     "text": [
      "                                                                                "
     ]
    },
    {
     "name": "stdout",
     "output_type": "stream",
     "text": [
      "Sample data rows after fractioning: 2245\n",
      "Data loaded successfully.\n"
     ]
    },
    {
     "name": "stderr",
     "output_type": "stream",
     "text": [
      "                                                                                "
     ]
    },
    {
     "name": "stdout",
     "output_type": "stream",
     "text": [
      "Total rows: 2245\n"
     ]
    },
    {
     "name": "stderr",
     "output_type": "stream",
     "text": [
      "                                                                                "
     ]
    },
    {
     "name": "stdout",
     "output_type": "stream",
     "text": [
      "[Row(sentiment='positive', count=1249), Row(sentiment='neutral', count=117), Row(sentiment='negative', count=878)] for partition ('o', 'u')\n",
      "Loading partition: ('v', 'z')\n",
      "Reconstructing lyrics...\n",
      "Lyrics reconstructed.\n"
     ]
    },
    {
     "name": "stderr",
     "output_type": "stream",
     "text": [
      "                                                                                "
     ]
    },
    {
     "name": "stdout",
     "output_type": "stream",
     "text": [
      "full_lyrics_df: 32082\n"
     ]
    },
    {
     "name": "stderr",
     "output_type": "stream",
     "text": [
      "                                                                                "
     ]
    },
    {
     "name": "stdout",
     "output_type": "stream",
     "text": [
      "Sample data rows after fractioning: 1242\n",
      "Data loaded successfully.\n"
     ]
    },
    {
     "name": "stderr",
     "output_type": "stream",
     "text": [
      "                                                                                "
     ]
    },
    {
     "name": "stdout",
     "output_type": "stream",
     "text": [
      "Total rows: 1242\n"
     ]
    },
    {
     "name": "stderr",
     "output_type": "stream",
     "text": [
      "                                                                                "
     ]
    },
    {
     "name": "stdout",
     "output_type": "stream",
     "text": [
      "[Row(sentiment='positive', count=690), Row(sentiment='negative', count=492), Row(sentiment='neutral', count=61)] for partition ('v', 'z')\n",
      "\n",
      "Final aggregated sentiment counts across all partitions:\n",
      "positive: 4497\n",
      "negative: 3052\n",
      "neutral: 434\n",
      "Running with workers=1, data_fraction=0.04, cores=4...\n",
      "Loading partition: ('a', 'g')\n",
      "Reconstructing lyrics...\n",
      "Lyrics reconstructed.\n"
     ]
    },
    {
     "name": "stderr",
     "output_type": "stream",
     "text": [
      "                                                                                "
     ]
    },
    {
     "name": "stdout",
     "output_type": "stream",
     "text": [
      "full_lyrics_df: 56960\n"
     ]
    },
    {
     "name": "stderr",
     "output_type": "stream",
     "text": [
      "                                                                                "
     ]
    },
    {
     "name": "stdout",
     "output_type": "stream",
     "text": [
      "Sample data rows after fractioning: 2251\n",
      "Data loaded successfully.\n"
     ]
    },
    {
     "name": "stderr",
     "output_type": "stream",
     "text": [
      "                                                                                "
     ]
    },
    {
     "name": "stdout",
     "output_type": "stream",
     "text": [
      "Total rows: 2251\n"
     ]
    },
    {
     "name": "stderr",
     "output_type": "stream",
     "text": [
      "                                                                                "
     ]
    },
    {
     "name": "stdout",
     "output_type": "stream",
     "text": [
      "[Row(sentiment='positive', count=1284), Row(sentiment='negative', count=835), Row(sentiment='neutral', count=132)] for partition ('a', 'g')\n",
      "Loading partition: ('h', 'n')\n",
      "Reconstructing lyrics...\n",
      "Lyrics reconstructed.\n"
     ]
    },
    {
     "name": "stderr",
     "output_type": "stream",
     "text": [
      "                                                                                "
     ]
    },
    {
     "name": "stdout",
     "output_type": "stream",
     "text": [
      "full_lyrics_df: 56804\n"
     ]
    },
    {
     "name": "stderr",
     "output_type": "stream",
     "text": [
      "                                                                                "
     ]
    },
    {
     "name": "stdout",
     "output_type": "stream",
     "text": [
      "Sample data rows after fractioning: 2244\n",
      "Data loaded successfully.\n"
     ]
    },
    {
     "name": "stderr",
     "output_type": "stream",
     "text": [
      "                                                                                "
     ]
    },
    {
     "name": "stdout",
     "output_type": "stream",
     "text": [
      "Total rows: 2244\n"
     ]
    },
    {
     "name": "stderr",
     "output_type": "stream",
     "text": [
      "                                                                                "
     ]
    },
    {
     "name": "stdout",
     "output_type": "stream",
     "text": [
      "[Row(sentiment='positive', count=1274), Row(sentiment='negative', count=847), Row(sentiment='neutral', count=124)] for partition ('h', 'n')\n",
      "Loading partition: ('o', 'u')\n",
      "Reconstructing lyrics...\n",
      "Lyrics reconstructed.\n"
     ]
    },
    {
     "name": "stderr",
     "output_type": "stream",
     "text": [
      "                                                                                "
     ]
    },
    {
     "name": "stdout",
     "output_type": "stream",
     "text": [
      "full_lyrics_df: 56812\n"
     ]
    },
    {
     "name": "stderr",
     "output_type": "stream",
     "text": [
      "                                                                                "
     ]
    },
    {
     "name": "stdout",
     "output_type": "stream",
     "text": [
      "Sample data rows after fractioning: 2245\n",
      "Data loaded successfully.\n"
     ]
    },
    {
     "name": "stderr",
     "output_type": "stream",
     "text": [
      "                                                                                "
     ]
    },
    {
     "name": "stdout",
     "output_type": "stream",
     "text": [
      "Total rows: 2245\n"
     ]
    },
    {
     "name": "stderr",
     "output_type": "stream",
     "text": [
      "                                                                                "
     ]
    },
    {
     "name": "stdout",
     "output_type": "stream",
     "text": [
      "[Row(sentiment='positive', count=1249), Row(sentiment='neutral', count=117), Row(sentiment='negative', count=878)] for partition ('o', 'u')\n",
      "Loading partition: ('v', 'z')\n",
      "Reconstructing lyrics...\n",
      "Lyrics reconstructed.\n"
     ]
    },
    {
     "name": "stderr",
     "output_type": "stream",
     "text": [
      "                                                                                "
     ]
    },
    {
     "name": "stdout",
     "output_type": "stream",
     "text": [
      "full_lyrics_df: 32082\n"
     ]
    },
    {
     "name": "stderr",
     "output_type": "stream",
     "text": [
      "                                                                                "
     ]
    },
    {
     "name": "stdout",
     "output_type": "stream",
     "text": [
      "Sample data rows after fractioning: 1242\n",
      "Data loaded successfully.\n"
     ]
    },
    {
     "name": "stderr",
     "output_type": "stream",
     "text": [
      "                                                                                "
     ]
    },
    {
     "name": "stdout",
     "output_type": "stream",
     "text": [
      "Total rows: 1242\n"
     ]
    },
    {
     "name": "stderr",
     "output_type": "stream",
     "text": [
      "                                                                                "
     ]
    },
    {
     "name": "stdout",
     "output_type": "stream",
     "text": [
      "[Row(sentiment='positive', count=690), Row(sentiment='negative', count=492), Row(sentiment='neutral', count=61)] for partition ('v', 'z')\n",
      "\n",
      "Final aggregated sentiment counts across all partitions:\n",
      "positive: 4497\n",
      "negative: 3052\n",
      "neutral: 434\n",
      "Running with workers=1, data_fraction=0.08, cores=1...\n",
      "Loading partition: ('a', 'g')\n",
      "Reconstructing lyrics...\n",
      "Lyrics reconstructed.\n"
     ]
    },
    {
     "name": "stderr",
     "output_type": "stream",
     "text": [
      "                                                                                "
     ]
    },
    {
     "name": "stdout",
     "output_type": "stream",
     "text": [
      "full_lyrics_df: 56960\n"
     ]
    },
    {
     "name": "stderr",
     "output_type": "stream",
     "text": [
      "                                                                                "
     ]
    },
    {
     "name": "stdout",
     "output_type": "stream",
     "text": [
      "Sample data rows after fractioning: 4612\n",
      "Data loaded successfully.\n"
     ]
    },
    {
     "name": "stderr",
     "output_type": "stream",
     "text": [
      "                                                                                "
     ]
    },
    {
     "name": "stdout",
     "output_type": "stream",
     "text": [
      "Total rows: 4612\n"
     ]
    },
    {
     "name": "stderr",
     "output_type": "stream",
     "text": [
      "                                                                                "
     ]
    },
    {
     "name": "stdout",
     "output_type": "stream",
     "text": [
      "[Row(sentiment='positive', count=2644), Row(sentiment='negative', count=1713), Row(sentiment='neutral', count=255)] for partition ('a', 'g')\n",
      "Loading partition: ('h', 'n')\n",
      "Reconstructing lyrics...\n",
      "Lyrics reconstructed.\n"
     ]
    },
    {
     "name": "stderr",
     "output_type": "stream",
     "text": [
      "                                                                                "
     ]
    },
    {
     "name": "stdout",
     "output_type": "stream",
     "text": [
      "full_lyrics_df: 56804\n"
     ]
    },
    {
     "name": "stderr",
     "output_type": "stream",
     "text": [
      "                                                                                "
     ]
    },
    {
     "name": "stdout",
     "output_type": "stream",
     "text": [
      "Sample data rows after fractioning: 4598\n",
      "Data loaded successfully.\n"
     ]
    },
    {
     "name": "stderr",
     "output_type": "stream",
     "text": [
      "                                                                                "
     ]
    },
    {
     "name": "stdout",
     "output_type": "stream",
     "text": [
      "Total rows: 4598\n"
     ]
    },
    {
     "name": "stderr",
     "output_type": "stream",
     "text": [
      "                                                                                "
     ]
    },
    {
     "name": "stdout",
     "output_type": "stream",
     "text": [
      "[Row(sentiment='positive', count=2572), Row(sentiment='neutral', count=263), Row(sentiment='negative', count=1764)] for partition ('h', 'n')\n",
      "Loading partition: ('o', 'u')\n",
      "Reconstructing lyrics...\n",
      "Lyrics reconstructed.\n"
     ]
    },
    {
     "name": "stderr",
     "output_type": "stream",
     "text": [
      "                                                                                "
     ]
    },
    {
     "name": "stdout",
     "output_type": "stream",
     "text": [
      "full_lyrics_df: 56812\n"
     ]
    },
    {
     "name": "stderr",
     "output_type": "stream",
     "text": [
      "                                                                                "
     ]
    },
    {
     "name": "stdout",
     "output_type": "stream",
     "text": [
      "Sample data rows after fractioning: 4600\n",
      "Data loaded successfully.\n"
     ]
    },
    {
     "name": "stderr",
     "output_type": "stream",
     "text": [
      "                                                                                "
     ]
    },
    {
     "name": "stdout",
     "output_type": "stream",
     "text": [
      "Total rows: 4600\n"
     ]
    },
    {
     "name": "stderr",
     "output_type": "stream",
     "text": [
      "                                                                                "
     ]
    },
    {
     "name": "stdout",
     "output_type": "stream",
     "text": [
      "[Row(sentiment='positive', count=2593), Row(sentiment='neutral', count=239), Row(sentiment='negative', count=1767)] for partition ('o', 'u')\n",
      "Loading partition: ('v', 'z')\n",
      "Reconstructing lyrics...\n",
      "Lyrics reconstructed.\n"
     ]
    },
    {
     "name": "stderr",
     "output_type": "stream",
     "text": [
      "                                                                                "
     ]
    },
    {
     "name": "stdout",
     "output_type": "stream",
     "text": [
      "full_lyrics_df: 32082\n"
     ]
    },
    {
     "name": "stderr",
     "output_type": "stream",
     "text": [
      "                                                                                "
     ]
    },
    {
     "name": "stdout",
     "output_type": "stream",
     "text": [
      "Sample data rows after fractioning: 2603\n",
      "Data loaded successfully.\n"
     ]
    },
    {
     "name": "stderr",
     "output_type": "stream",
     "text": [
      "                                                                                "
     ]
    },
    {
     "name": "stdout",
     "output_type": "stream",
     "text": [
      "Total rows: 2603\n"
     ]
    },
    {
     "name": "stderr",
     "output_type": "stream",
     "text": [
      "                                                                                "
     ]
    },
    {
     "name": "stdout",
     "output_type": "stream",
     "text": [
      "[Row(sentiment='positive', count=1499), Row(sentiment='negative', count=980), Row(sentiment='neutral', count=126)] for partition ('v', 'z')\n",
      "\n",
      "Final aggregated sentiment counts across all partitions:\n",
      "positive: 9308\n",
      "negative: 6224\n",
      "neutral: 883\n",
      "Running with workers=1, data_fraction=0.08, cores=2...\n",
      "Loading partition: ('a', 'g')\n",
      "Reconstructing lyrics...\n",
      "Lyrics reconstructed.\n"
     ]
    },
    {
     "name": "stderr",
     "output_type": "stream",
     "text": [
      "                                                                                "
     ]
    },
    {
     "name": "stdout",
     "output_type": "stream",
     "text": [
      "full_lyrics_df: 56960\n"
     ]
    },
    {
     "name": "stderr",
     "output_type": "stream",
     "text": [
      "                                                                                "
     ]
    },
    {
     "name": "stdout",
     "output_type": "stream",
     "text": [
      "Sample data rows after fractioning: 4612\n",
      "Data loaded successfully.\n"
     ]
    },
    {
     "name": "stderr",
     "output_type": "stream",
     "text": [
      "                                                                                "
     ]
    },
    {
     "name": "stdout",
     "output_type": "stream",
     "text": [
      "Total rows: 4612\n"
     ]
    },
    {
     "name": "stderr",
     "output_type": "stream",
     "text": [
      "                                                                                "
     ]
    },
    {
     "name": "stdout",
     "output_type": "stream",
     "text": [
      "[Row(sentiment='positive', count=2644), Row(sentiment='negative', count=1713), Row(sentiment='neutral', count=255)] for partition ('a', 'g')\n",
      "Loading partition: ('h', 'n')\n",
      "Reconstructing lyrics...\n",
      "Lyrics reconstructed.\n"
     ]
    },
    {
     "name": "stderr",
     "output_type": "stream",
     "text": [
      "                                                                                "
     ]
    },
    {
     "name": "stdout",
     "output_type": "stream",
     "text": [
      "full_lyrics_df: 56804\n"
     ]
    },
    {
     "name": "stderr",
     "output_type": "stream",
     "text": [
      "                                                                                "
     ]
    },
    {
     "name": "stdout",
     "output_type": "stream",
     "text": [
      "Sample data rows after fractioning: 4598\n",
      "Data loaded successfully.\n"
     ]
    },
    {
     "name": "stderr",
     "output_type": "stream",
     "text": [
      "                                                                                "
     ]
    },
    {
     "name": "stdout",
     "output_type": "stream",
     "text": [
      "Total rows: 4598\n"
     ]
    },
    {
     "name": "stderr",
     "output_type": "stream",
     "text": [
      "                                                                                "
     ]
    },
    {
     "name": "stdout",
     "output_type": "stream",
     "text": [
      "[Row(sentiment='positive', count=2572), Row(sentiment='neutral', count=263), Row(sentiment='negative', count=1764)] for partition ('h', 'n')\n",
      "Loading partition: ('o', 'u')\n",
      "Reconstructing lyrics...\n",
      "Lyrics reconstructed.\n"
     ]
    },
    {
     "name": "stderr",
     "output_type": "stream",
     "text": [
      "                                                                                "
     ]
    },
    {
     "name": "stdout",
     "output_type": "stream",
     "text": [
      "full_lyrics_df: 56812\n"
     ]
    },
    {
     "name": "stderr",
     "output_type": "stream",
     "text": [
      "                                                                                "
     ]
    },
    {
     "name": "stdout",
     "output_type": "stream",
     "text": [
      "Sample data rows after fractioning: 4600\n",
      "Data loaded successfully.\n"
     ]
    },
    {
     "name": "stderr",
     "output_type": "stream",
     "text": [
      "                                                                                "
     ]
    },
    {
     "name": "stdout",
     "output_type": "stream",
     "text": [
      "Total rows: 4600\n"
     ]
    },
    {
     "name": "stderr",
     "output_type": "stream",
     "text": [
      "                                                                                "
     ]
    },
    {
     "name": "stdout",
     "output_type": "stream",
     "text": [
      "[Row(sentiment='positive', count=2593), Row(sentiment='neutral', count=239), Row(sentiment='negative', count=1767)] for partition ('o', 'u')\n",
      "Loading partition: ('v', 'z')\n",
      "Reconstructing lyrics...\n",
      "Lyrics reconstructed.\n"
     ]
    },
    {
     "name": "stderr",
     "output_type": "stream",
     "text": [
      "                                                                                "
     ]
    },
    {
     "name": "stdout",
     "output_type": "stream",
     "text": [
      "full_lyrics_df: 32082\n"
     ]
    },
    {
     "name": "stderr",
     "output_type": "stream",
     "text": [
      "                                                                                "
     ]
    },
    {
     "name": "stdout",
     "output_type": "stream",
     "text": [
      "Sample data rows after fractioning: 2603\n",
      "Data loaded successfully.\n"
     ]
    },
    {
     "name": "stderr",
     "output_type": "stream",
     "text": [
      "                                                                                "
     ]
    },
    {
     "name": "stdout",
     "output_type": "stream",
     "text": [
      "Total rows: 2603\n"
     ]
    },
    {
     "name": "stderr",
     "output_type": "stream",
     "text": [
      "                                                                                "
     ]
    },
    {
     "name": "stdout",
     "output_type": "stream",
     "text": [
      "[Row(sentiment='positive', count=1499), Row(sentiment='negative', count=980), Row(sentiment='neutral', count=126)] for partition ('v', 'z')\n",
      "\n",
      "Final aggregated sentiment counts across all partitions:\n",
      "positive: 9308\n",
      "negative: 6224\n",
      "neutral: 883\n",
      "Running with workers=1, data_fraction=0.08, cores=4...\n",
      "Loading partition: ('a', 'g')\n",
      "Reconstructing lyrics...\n",
      "Lyrics reconstructed.\n"
     ]
    },
    {
     "name": "stderr",
     "output_type": "stream",
     "text": [
      "                                                                                "
     ]
    },
    {
     "name": "stdout",
     "output_type": "stream",
     "text": [
      "full_lyrics_df: 56960\n"
     ]
    },
    {
     "name": "stderr",
     "output_type": "stream",
     "text": [
      "                                                                                "
     ]
    },
    {
     "name": "stdout",
     "output_type": "stream",
     "text": [
      "Sample data rows after fractioning: 4612\n",
      "Data loaded successfully.\n"
     ]
    },
    {
     "name": "stderr",
     "output_type": "stream",
     "text": [
      "                                                                                "
     ]
    },
    {
     "name": "stdout",
     "output_type": "stream",
     "text": [
      "Total rows: 4612\n"
     ]
    },
    {
     "name": "stderr",
     "output_type": "stream",
     "text": [
      "                                                                                "
     ]
    },
    {
     "name": "stdout",
     "output_type": "stream",
     "text": [
      "[Row(sentiment='positive', count=2644), Row(sentiment='negative', count=1713), Row(sentiment='neutral', count=255)] for partition ('a', 'g')\n",
      "Loading partition: ('h', 'n')\n",
      "Reconstructing lyrics...\n",
      "Lyrics reconstructed.\n"
     ]
    },
    {
     "name": "stderr",
     "output_type": "stream",
     "text": [
      "                                                                                "
     ]
    },
    {
     "name": "stdout",
     "output_type": "stream",
     "text": [
      "full_lyrics_df: 56804\n"
     ]
    },
    {
     "name": "stderr",
     "output_type": "stream",
     "text": [
      "                                                                                "
     ]
    },
    {
     "name": "stdout",
     "output_type": "stream",
     "text": [
      "Sample data rows after fractioning: 4598\n",
      "Data loaded successfully.\n"
     ]
    },
    {
     "name": "stderr",
     "output_type": "stream",
     "text": [
      "                                                                                "
     ]
    },
    {
     "name": "stdout",
     "output_type": "stream",
     "text": [
      "Total rows: 4598\n"
     ]
    },
    {
     "name": "stderr",
     "output_type": "stream",
     "text": [
      "                                                                                "
     ]
    },
    {
     "name": "stdout",
     "output_type": "stream",
     "text": [
      "[Row(sentiment='positive', count=2572), Row(sentiment='neutral', count=263), Row(sentiment='negative', count=1764)] for partition ('h', 'n')\n",
      "Loading partition: ('o', 'u')\n",
      "Reconstructing lyrics...\n",
      "Lyrics reconstructed.\n"
     ]
    },
    {
     "name": "stderr",
     "output_type": "stream",
     "text": [
      "                                                                                "
     ]
    },
    {
     "name": "stdout",
     "output_type": "stream",
     "text": [
      "full_lyrics_df: 56812\n"
     ]
    },
    {
     "name": "stderr",
     "output_type": "stream",
     "text": [
      "                                                                                "
     ]
    },
    {
     "name": "stdout",
     "output_type": "stream",
     "text": [
      "Sample data rows after fractioning: 4600\n",
      "Data loaded successfully.\n"
     ]
    },
    {
     "name": "stderr",
     "output_type": "stream",
     "text": [
      "                                                                                "
     ]
    },
    {
     "name": "stdout",
     "output_type": "stream",
     "text": [
      "Total rows: 4600\n"
     ]
    },
    {
     "name": "stderr",
     "output_type": "stream",
     "text": [
      "                                                                                "
     ]
    },
    {
     "name": "stdout",
     "output_type": "stream",
     "text": [
      "[Row(sentiment='positive', count=2593), Row(sentiment='neutral', count=239), Row(sentiment='negative', count=1767)] for partition ('o', 'u')\n",
      "Loading partition: ('v', 'z')\n",
      "Reconstructing lyrics...\n",
      "Lyrics reconstructed.\n"
     ]
    },
    {
     "name": "stderr",
     "output_type": "stream",
     "text": [
      "                                                                                "
     ]
    },
    {
     "name": "stdout",
     "output_type": "stream",
     "text": [
      "full_lyrics_df: 32082\n"
     ]
    },
    {
     "name": "stderr",
     "output_type": "stream",
     "text": [
      "                                                                                "
     ]
    },
    {
     "name": "stdout",
     "output_type": "stream",
     "text": [
      "Sample data rows after fractioning: 2603\n",
      "Data loaded successfully.\n"
     ]
    },
    {
     "name": "stderr",
     "output_type": "stream",
     "text": [
      "                                                                                "
     ]
    },
    {
     "name": "stdout",
     "output_type": "stream",
     "text": [
      "Total rows: 2603\n"
     ]
    },
    {
     "name": "stderr",
     "output_type": "stream",
     "text": [
      "                                                                                "
     ]
    },
    {
     "name": "stdout",
     "output_type": "stream",
     "text": [
      "[Row(sentiment='positive', count=1499), Row(sentiment='negative', count=980), Row(sentiment='neutral', count=126)] for partition ('v', 'z')\n",
      "\n",
      "Final aggregated sentiment counts across all partitions:\n",
      "positive: 9308\n",
      "negative: 6224\n",
      "neutral: 883\n",
      "Running with workers=2, data_fraction=0.01, cores=1...\n",
      "Loading partition: ('a', 'g')\n",
      "Reconstructing lyrics...\n",
      "Lyrics reconstructed.\n"
     ]
    },
    {
     "name": "stderr",
     "output_type": "stream",
     "text": [
      "                                                                                "
     ]
    },
    {
     "name": "stdout",
     "output_type": "stream",
     "text": [
      "full_lyrics_df: 56960\n"
     ]
    },
    {
     "name": "stderr",
     "output_type": "stream",
     "text": [
      "                                                                                "
     ]
    },
    {
     "name": "stdout",
     "output_type": "stream",
     "text": [
      "Sample data rows after fractioning: 567\n",
      "Data loaded successfully.\n"
     ]
    },
    {
     "name": "stderr",
     "output_type": "stream",
     "text": [
      "                                                                                "
     ]
    },
    {
     "name": "stdout",
     "output_type": "stream",
     "text": [
      "Total rows: 567\n"
     ]
    },
    {
     "name": "stderr",
     "output_type": "stream",
     "text": [
      "                                                                                "
     ]
    },
    {
     "name": "stdout",
     "output_type": "stream",
     "text": [
      "[Row(sentiment='positive', count=316), Row(sentiment='negative', count=226), Row(sentiment='neutral', count=25)] for partition ('a', 'g')\n",
      "Loading partition: ('h', 'n')\n",
      "Reconstructing lyrics...\n",
      "Lyrics reconstructed.\n"
     ]
    },
    {
     "name": "stderr",
     "output_type": "stream",
     "text": [
      "                                                                                "
     ]
    },
    {
     "name": "stdout",
     "output_type": "stream",
     "text": [
      "full_lyrics_df: 56804\n"
     ]
    },
    {
     "name": "stderr",
     "output_type": "stream",
     "text": [
      "                                                                                "
     ]
    },
    {
     "name": "stdout",
     "output_type": "stream",
     "text": [
      "Sample data rows after fractioning: 565\n",
      "Data loaded successfully.\n"
     ]
    },
    {
     "name": "stderr",
     "output_type": "stream",
     "text": [
      "                                                                                "
     ]
    },
    {
     "name": "stdout",
     "output_type": "stream",
     "text": [
      "Total rows: 565\n"
     ]
    },
    {
     "name": "stderr",
     "output_type": "stream",
     "text": [
      "                                                                                "
     ]
    },
    {
     "name": "stdout",
     "output_type": "stream",
     "text": [
      "[Row(sentiment='positive', count=322), Row(sentiment='negative', count=212), Row(sentiment='neutral', count=31)] for partition ('h', 'n')\n",
      "Loading partition: ('o', 'u')\n",
      "Reconstructing lyrics...\n",
      "Lyrics reconstructed.\n"
     ]
    },
    {
     "name": "stderr",
     "output_type": "stream",
     "text": [
      "                                                                                "
     ]
    },
    {
     "name": "stdout",
     "output_type": "stream",
     "text": [
      "full_lyrics_df: 56812\n"
     ]
    },
    {
     "name": "stderr",
     "output_type": "stream",
     "text": [
      "                                                                                "
     ]
    },
    {
     "name": "stdout",
     "output_type": "stream",
     "text": [
      "Sample data rows after fractioning: 565\n",
      "Data loaded successfully.\n"
     ]
    },
    {
     "name": "stderr",
     "output_type": "stream",
     "text": [
      "                                                                                "
     ]
    },
    {
     "name": "stdout",
     "output_type": "stream",
     "text": [
      "Total rows: 565\n"
     ]
    },
    {
     "name": "stderr",
     "output_type": "stream",
     "text": [
      "                                                                                "
     ]
    },
    {
     "name": "stdout",
     "output_type": "stream",
     "text": [
      "[Row(sentiment='positive', count=311), Row(sentiment='negative', count=221), Row(sentiment='neutral', count=33)] for partition ('o', 'u')\n",
      "Loading partition: ('v', 'z')\n",
      "Reconstructing lyrics...\n",
      "Lyrics reconstructed.\n"
     ]
    },
    {
     "name": "stderr",
     "output_type": "stream",
     "text": [
      "                                                                                "
     ]
    },
    {
     "name": "stdout",
     "output_type": "stream",
     "text": [
      "full_lyrics_df: 32082\n"
     ]
    },
    {
     "name": "stderr",
     "output_type": "stream",
     "text": [
      "                                                                                "
     ]
    },
    {
     "name": "stdout",
     "output_type": "stream",
     "text": [
      "Sample data rows after fractioning: 301\n",
      "Data loaded successfully.\n"
     ]
    },
    {
     "name": "stderr",
     "output_type": "stream",
     "text": [
      "                                                                                "
     ]
    },
    {
     "name": "stdout",
     "output_type": "stream",
     "text": [
      "Total rows: 301\n"
     ]
    },
    {
     "name": "stderr",
     "output_type": "stream",
     "text": [
      "                                                                                "
     ]
    },
    {
     "name": "stdout",
     "output_type": "stream",
     "text": [
      "[Row(sentiment='positive', count=160), Row(sentiment='neutral', count=13), Row(sentiment='negative', count=128)] for partition ('v', 'z')\n",
      "\n",
      "Final aggregated sentiment counts across all partitions:\n",
      "positive: 1109\n",
      "negative: 787\n",
      "neutral: 102\n",
      "Running with workers=2, data_fraction=0.01, cores=2...\n",
      "Loading partition: ('a', 'g')\n",
      "Reconstructing lyrics...\n",
      "Lyrics reconstructed.\n"
     ]
    },
    {
     "name": "stderr",
     "output_type": "stream",
     "text": [
      "                                                                                "
     ]
    },
    {
     "name": "stdout",
     "output_type": "stream",
     "text": [
      "full_lyrics_df: 56960\n"
     ]
    },
    {
     "name": "stderr",
     "output_type": "stream",
     "text": [
      "                                                                                "
     ]
    },
    {
     "name": "stdout",
     "output_type": "stream",
     "text": [
      "Sample data rows after fractioning: 567\n",
      "Data loaded successfully.\n"
     ]
    },
    {
     "name": "stderr",
     "output_type": "stream",
     "text": [
      "                                                                                "
     ]
    },
    {
     "name": "stdout",
     "output_type": "stream",
     "text": [
      "Total rows: 567\n"
     ]
    },
    {
     "name": "stderr",
     "output_type": "stream",
     "text": [
      "                                                                                "
     ]
    },
    {
     "name": "stdout",
     "output_type": "stream",
     "text": [
      "[Row(sentiment='positive', count=316), Row(sentiment='negative', count=226), Row(sentiment='neutral', count=25)] for partition ('a', 'g')\n",
      "Loading partition: ('h', 'n')\n",
      "Reconstructing lyrics...\n",
      "Lyrics reconstructed.\n"
     ]
    },
    {
     "name": "stderr",
     "output_type": "stream",
     "text": [
      "                                                                                "
     ]
    },
    {
     "name": "stdout",
     "output_type": "stream",
     "text": [
      "full_lyrics_df: 56804\n"
     ]
    },
    {
     "name": "stderr",
     "output_type": "stream",
     "text": [
      "                                                                                "
     ]
    },
    {
     "name": "stdout",
     "output_type": "stream",
     "text": [
      "Sample data rows after fractioning: 565\n",
      "Data loaded successfully.\n"
     ]
    },
    {
     "name": "stderr",
     "output_type": "stream",
     "text": [
      "                                                                                "
     ]
    },
    {
     "name": "stdout",
     "output_type": "stream",
     "text": [
      "Total rows: 565\n"
     ]
    },
    {
     "name": "stderr",
     "output_type": "stream",
     "text": [
      "                                                                                "
     ]
    },
    {
     "name": "stdout",
     "output_type": "stream",
     "text": [
      "[Row(sentiment='positive', count=322), Row(sentiment='negative', count=212), Row(sentiment='neutral', count=31)] for partition ('h', 'n')\n",
      "Loading partition: ('o', 'u')\n",
      "Reconstructing lyrics...\n",
      "Lyrics reconstructed.\n"
     ]
    },
    {
     "name": "stderr",
     "output_type": "stream",
     "text": [
      "                                                                                "
     ]
    },
    {
     "name": "stdout",
     "output_type": "stream",
     "text": [
      "full_lyrics_df: 56812\n"
     ]
    },
    {
     "name": "stderr",
     "output_type": "stream",
     "text": [
      "                                                                                "
     ]
    },
    {
     "name": "stdout",
     "output_type": "stream",
     "text": [
      "Sample data rows after fractioning: 565\n",
      "Data loaded successfully.\n"
     ]
    },
    {
     "name": "stderr",
     "output_type": "stream",
     "text": [
      "                                                                                "
     ]
    },
    {
     "name": "stdout",
     "output_type": "stream",
     "text": [
      "Total rows: 565\n"
     ]
    },
    {
     "name": "stderr",
     "output_type": "stream",
     "text": [
      "                                                                                "
     ]
    },
    {
     "name": "stdout",
     "output_type": "stream",
     "text": [
      "[Row(sentiment='positive', count=311), Row(sentiment='negative', count=221), Row(sentiment='neutral', count=33)] for partition ('o', 'u')\n",
      "Loading partition: ('v', 'z')\n",
      "Reconstructing lyrics...\n",
      "Lyrics reconstructed.\n"
     ]
    },
    {
     "name": "stderr",
     "output_type": "stream",
     "text": [
      "                                                                                "
     ]
    },
    {
     "name": "stdout",
     "output_type": "stream",
     "text": [
      "full_lyrics_df: 32082\n"
     ]
    },
    {
     "name": "stderr",
     "output_type": "stream",
     "text": [
      "                                                                                "
     ]
    },
    {
     "name": "stdout",
     "output_type": "stream",
     "text": [
      "Sample data rows after fractioning: 301\n",
      "Data loaded successfully.\n"
     ]
    },
    {
     "name": "stderr",
     "output_type": "stream",
     "text": [
      "                                                                                "
     ]
    },
    {
     "name": "stdout",
     "output_type": "stream",
     "text": [
      "Total rows: 301\n"
     ]
    },
    {
     "name": "stderr",
     "output_type": "stream",
     "text": [
      "                                                                                "
     ]
    },
    {
     "name": "stdout",
     "output_type": "stream",
     "text": [
      "[Row(sentiment='positive', count=160), Row(sentiment='neutral', count=13), Row(sentiment='negative', count=128)] for partition ('v', 'z')\n",
      "\n",
      "Final aggregated sentiment counts across all partitions:\n",
      "positive: 1109\n",
      "negative: 787\n",
      "neutral: 102\n",
      "Running with workers=2, data_fraction=0.01, cores=4...\n",
      "Loading partition: ('a', 'g')\n",
      "Reconstructing lyrics...\n",
      "Lyrics reconstructed.\n"
     ]
    },
    {
     "name": "stderr",
     "output_type": "stream",
     "text": [
      "                                                                                "
     ]
    },
    {
     "name": "stdout",
     "output_type": "stream",
     "text": [
      "full_lyrics_df: 56960\n"
     ]
    },
    {
     "name": "stderr",
     "output_type": "stream",
     "text": [
      "                                                                                "
     ]
    },
    {
     "name": "stdout",
     "output_type": "stream",
     "text": [
      "Sample data rows after fractioning: 567\n",
      "Data loaded successfully.\n"
     ]
    },
    {
     "name": "stderr",
     "output_type": "stream",
     "text": [
      "                                                                                "
     ]
    },
    {
     "name": "stdout",
     "output_type": "stream",
     "text": [
      "Total rows: 567\n"
     ]
    },
    {
     "name": "stderr",
     "output_type": "stream",
     "text": [
      "                                                                                "
     ]
    },
    {
     "name": "stdout",
     "output_type": "stream",
     "text": [
      "[Row(sentiment='positive', count=316), Row(sentiment='negative', count=226), Row(sentiment='neutral', count=25)] for partition ('a', 'g')\n",
      "Loading partition: ('h', 'n')\n",
      "Reconstructing lyrics...\n",
      "Lyrics reconstructed.\n"
     ]
    },
    {
     "name": "stderr",
     "output_type": "stream",
     "text": [
      "                                                                                "
     ]
    },
    {
     "name": "stdout",
     "output_type": "stream",
     "text": [
      "full_lyrics_df: 56804\n"
     ]
    },
    {
     "name": "stderr",
     "output_type": "stream",
     "text": [
      "                                                                                "
     ]
    },
    {
     "name": "stdout",
     "output_type": "stream",
     "text": [
      "Sample data rows after fractioning: 565\n",
      "Data loaded successfully.\n"
     ]
    },
    {
     "name": "stderr",
     "output_type": "stream",
     "text": [
      "                                                                                "
     ]
    },
    {
     "name": "stdout",
     "output_type": "stream",
     "text": [
      "Total rows: 565\n"
     ]
    },
    {
     "name": "stderr",
     "output_type": "stream",
     "text": [
      "                                                                                "
     ]
    },
    {
     "name": "stdout",
     "output_type": "stream",
     "text": [
      "[Row(sentiment='positive', count=322), Row(sentiment='negative', count=212), Row(sentiment='neutral', count=31)] for partition ('h', 'n')\n",
      "Loading partition: ('o', 'u')\n",
      "Reconstructing lyrics...\n",
      "Lyrics reconstructed.\n"
     ]
    },
    {
     "name": "stderr",
     "output_type": "stream",
     "text": [
      "                                                                                "
     ]
    },
    {
     "name": "stdout",
     "output_type": "stream",
     "text": [
      "full_lyrics_df: 56812\n"
     ]
    },
    {
     "name": "stderr",
     "output_type": "stream",
     "text": [
      "                                                                                "
     ]
    },
    {
     "name": "stdout",
     "output_type": "stream",
     "text": [
      "Sample data rows after fractioning: 565\n",
      "Data loaded successfully.\n"
     ]
    },
    {
     "name": "stderr",
     "output_type": "stream",
     "text": [
      "                                                                                "
     ]
    },
    {
     "name": "stdout",
     "output_type": "stream",
     "text": [
      "Total rows: 565\n"
     ]
    },
    {
     "name": "stderr",
     "output_type": "stream",
     "text": [
      "                                                                                "
     ]
    },
    {
     "name": "stdout",
     "output_type": "stream",
     "text": [
      "[Row(sentiment='positive', count=311), Row(sentiment='negative', count=221), Row(sentiment='neutral', count=33)] for partition ('o', 'u')\n",
      "Loading partition: ('v', 'z')\n",
      "Reconstructing lyrics...\n",
      "Lyrics reconstructed.\n"
     ]
    },
    {
     "name": "stderr",
     "output_type": "stream",
     "text": [
      "                                                                                "
     ]
    },
    {
     "name": "stdout",
     "output_type": "stream",
     "text": [
      "full_lyrics_df: 32082\n"
     ]
    },
    {
     "name": "stderr",
     "output_type": "stream",
     "text": [
      "                                                                                "
     ]
    },
    {
     "name": "stdout",
     "output_type": "stream",
     "text": [
      "Sample data rows after fractioning: 301\n",
      "Data loaded successfully.\n"
     ]
    },
    {
     "name": "stderr",
     "output_type": "stream",
     "text": [
      "                                                                                "
     ]
    },
    {
     "name": "stdout",
     "output_type": "stream",
     "text": [
      "Total rows: 301\n"
     ]
    },
    {
     "name": "stderr",
     "output_type": "stream",
     "text": [
      "                                                                                "
     ]
    },
    {
     "name": "stdout",
     "output_type": "stream",
     "text": [
      "[Row(sentiment='positive', count=160), Row(sentiment='neutral', count=13), Row(sentiment='negative', count=128)] for partition ('v', 'z')\n",
      "\n",
      "Final aggregated sentiment counts across all partitions:\n",
      "positive: 1109\n",
      "negative: 787\n",
      "neutral: 102\n",
      "Running with workers=2, data_fraction=0.04, cores=1...\n",
      "Loading partition: ('a', 'g')\n",
      "Reconstructing lyrics...\n",
      "Lyrics reconstructed.\n"
     ]
    },
    {
     "name": "stderr",
     "output_type": "stream",
     "text": [
      "                                                                                "
     ]
    },
    {
     "name": "stdout",
     "output_type": "stream",
     "text": [
      "full_lyrics_df: 56960\n"
     ]
    },
    {
     "name": "stderr",
     "output_type": "stream",
     "text": [
      "                                                                                "
     ]
    },
    {
     "name": "stdout",
     "output_type": "stream",
     "text": [
      "Sample data rows after fractioning: 2251\n",
      "Data loaded successfully.\n"
     ]
    },
    {
     "name": "stderr",
     "output_type": "stream",
     "text": [
      "                                                                                "
     ]
    },
    {
     "name": "stdout",
     "output_type": "stream",
     "text": [
      "Total rows: 2251\n"
     ]
    },
    {
     "name": "stderr",
     "output_type": "stream",
     "text": [
      "                                                                                "
     ]
    },
    {
     "name": "stdout",
     "output_type": "stream",
     "text": [
      "[Row(sentiment='positive', count=1284), Row(sentiment='negative', count=835), Row(sentiment='neutral', count=132)] for partition ('a', 'g')\n",
      "Loading partition: ('h', 'n')\n",
      "Reconstructing lyrics...\n",
      "Lyrics reconstructed.\n"
     ]
    },
    {
     "name": "stderr",
     "output_type": "stream",
     "text": [
      "                                                                                "
     ]
    },
    {
     "name": "stdout",
     "output_type": "stream",
     "text": [
      "full_lyrics_df: 56804\n"
     ]
    },
    {
     "name": "stderr",
     "output_type": "stream",
     "text": [
      "                                                                                "
     ]
    },
    {
     "name": "stdout",
     "output_type": "stream",
     "text": [
      "Sample data rows after fractioning: 2244\n",
      "Data loaded successfully.\n"
     ]
    },
    {
     "name": "stderr",
     "output_type": "stream",
     "text": [
      "                                                                                "
     ]
    },
    {
     "name": "stdout",
     "output_type": "stream",
     "text": [
      "Total rows: 2244\n"
     ]
    },
    {
     "name": "stderr",
     "output_type": "stream",
     "text": [
      "                                                                                "
     ]
    },
    {
     "name": "stdout",
     "output_type": "stream",
     "text": [
      "[Row(sentiment='positive', count=1274), Row(sentiment='negative', count=847), Row(sentiment='neutral', count=124)] for partition ('h', 'n')\n",
      "Loading partition: ('o', 'u')\n",
      "Reconstructing lyrics...\n",
      "Lyrics reconstructed.\n"
     ]
    },
    {
     "name": "stderr",
     "output_type": "stream",
     "text": [
      "                                                                                "
     ]
    },
    {
     "name": "stdout",
     "output_type": "stream",
     "text": [
      "full_lyrics_df: 56812\n"
     ]
    },
    {
     "name": "stderr",
     "output_type": "stream",
     "text": [
      "                                                                                "
     ]
    },
    {
     "name": "stdout",
     "output_type": "stream",
     "text": [
      "Sample data rows after fractioning: 2245\n",
      "Data loaded successfully.\n"
     ]
    },
    {
     "name": "stderr",
     "output_type": "stream",
     "text": [
      "                                                                                "
     ]
    },
    {
     "name": "stdout",
     "output_type": "stream",
     "text": [
      "Total rows: 2245\n"
     ]
    },
    {
     "name": "stderr",
     "output_type": "stream",
     "text": [
      "                                                                                "
     ]
    },
    {
     "name": "stdout",
     "output_type": "stream",
     "text": [
      "[Row(sentiment='positive', count=1249), Row(sentiment='neutral', count=117), Row(sentiment='negative', count=878)] for partition ('o', 'u')\n",
      "Loading partition: ('v', 'z')\n",
      "Reconstructing lyrics...\n",
      "Lyrics reconstructed.\n"
     ]
    },
    {
     "name": "stderr",
     "output_type": "stream",
     "text": [
      "                                                                                "
     ]
    },
    {
     "name": "stdout",
     "output_type": "stream",
     "text": [
      "full_lyrics_df: 32082\n"
     ]
    },
    {
     "name": "stderr",
     "output_type": "stream",
     "text": [
      "                                                                                "
     ]
    },
    {
     "name": "stdout",
     "output_type": "stream",
     "text": [
      "Sample data rows after fractioning: 1242\n",
      "Data loaded successfully.\n"
     ]
    },
    {
     "name": "stderr",
     "output_type": "stream",
     "text": [
      "                                                                                "
     ]
    },
    {
     "name": "stdout",
     "output_type": "stream",
     "text": [
      "Total rows: 1242\n"
     ]
    },
    {
     "name": "stderr",
     "output_type": "stream",
     "text": [
      "                                                                                "
     ]
    },
    {
     "name": "stdout",
     "output_type": "stream",
     "text": [
      "[Row(sentiment='positive', count=690), Row(sentiment='negative', count=492), Row(sentiment='neutral', count=61)] for partition ('v', 'z')\n",
      "\n",
      "Final aggregated sentiment counts across all partitions:\n",
      "positive: 4497\n",
      "negative: 3052\n",
      "neutral: 434\n",
      "Running with workers=2, data_fraction=0.04, cores=2...\n",
      "Loading partition: ('a', 'g')\n",
      "Reconstructing lyrics...\n",
      "Lyrics reconstructed.\n"
     ]
    },
    {
     "name": "stderr",
     "output_type": "stream",
     "text": [
      "                                                                                "
     ]
    },
    {
     "name": "stdout",
     "output_type": "stream",
     "text": [
      "full_lyrics_df: 56960\n"
     ]
    },
    {
     "name": "stderr",
     "output_type": "stream",
     "text": [
      "                                                                                "
     ]
    },
    {
     "name": "stdout",
     "output_type": "stream",
     "text": [
      "Sample data rows after fractioning: 2251\n",
      "Data loaded successfully.\n"
     ]
    },
    {
     "name": "stderr",
     "output_type": "stream",
     "text": [
      "                                                                                "
     ]
    },
    {
     "name": "stdout",
     "output_type": "stream",
     "text": [
      "Total rows: 2251\n"
     ]
    },
    {
     "name": "stderr",
     "output_type": "stream",
     "text": [
      "                                                                                "
     ]
    },
    {
     "name": "stdout",
     "output_type": "stream",
     "text": [
      "[Row(sentiment='positive', count=1284), Row(sentiment='negative', count=835), Row(sentiment='neutral', count=132)] for partition ('a', 'g')\n",
      "Loading partition: ('h', 'n')\n",
      "Reconstructing lyrics...\n",
      "Lyrics reconstructed.\n"
     ]
    },
    {
     "name": "stderr",
     "output_type": "stream",
     "text": [
      "                                                                                "
     ]
    },
    {
     "name": "stdout",
     "output_type": "stream",
     "text": [
      "full_lyrics_df: 56804\n"
     ]
    },
    {
     "name": "stderr",
     "output_type": "stream",
     "text": [
      "                                                                                "
     ]
    },
    {
     "name": "stdout",
     "output_type": "stream",
     "text": [
      "Sample data rows after fractioning: 2244\n",
      "Data loaded successfully.\n"
     ]
    },
    {
     "name": "stderr",
     "output_type": "stream",
     "text": [
      "                                                                                "
     ]
    },
    {
     "name": "stdout",
     "output_type": "stream",
     "text": [
      "Total rows: 2244\n"
     ]
    },
    {
     "name": "stderr",
     "output_type": "stream",
     "text": [
      "                                                                                "
     ]
    },
    {
     "name": "stdout",
     "output_type": "stream",
     "text": [
      "[Row(sentiment='positive', count=1274), Row(sentiment='negative', count=847), Row(sentiment='neutral', count=124)] for partition ('h', 'n')\n",
      "Loading partition: ('o', 'u')\n",
      "Reconstructing lyrics...\n",
      "Lyrics reconstructed.\n"
     ]
    },
    {
     "name": "stderr",
     "output_type": "stream",
     "text": [
      "                                                                                "
     ]
    },
    {
     "name": "stdout",
     "output_type": "stream",
     "text": [
      "full_lyrics_df: 56812\n"
     ]
    },
    {
     "name": "stderr",
     "output_type": "stream",
     "text": [
      "                                                                                "
     ]
    },
    {
     "name": "stdout",
     "output_type": "stream",
     "text": [
      "Sample data rows after fractioning: 2245\n",
      "Data loaded successfully.\n"
     ]
    },
    {
     "name": "stderr",
     "output_type": "stream",
     "text": [
      "                                                                                "
     ]
    },
    {
     "name": "stdout",
     "output_type": "stream",
     "text": [
      "Total rows: 2245\n"
     ]
    },
    {
     "name": "stderr",
     "output_type": "stream",
     "text": [
      "                                                                                "
     ]
    },
    {
     "name": "stdout",
     "output_type": "stream",
     "text": [
      "[Row(sentiment='positive', count=1249), Row(sentiment='neutral', count=117), Row(sentiment='negative', count=878)] for partition ('o', 'u')\n",
      "Loading partition: ('v', 'z')\n",
      "Reconstructing lyrics...\n",
      "Lyrics reconstructed.\n"
     ]
    },
    {
     "name": "stderr",
     "output_type": "stream",
     "text": [
      "                                                                                "
     ]
    },
    {
     "name": "stdout",
     "output_type": "stream",
     "text": [
      "full_lyrics_df: 32082\n"
     ]
    },
    {
     "name": "stderr",
     "output_type": "stream",
     "text": [
      "                                                                                "
     ]
    },
    {
     "name": "stdout",
     "output_type": "stream",
     "text": [
      "Sample data rows after fractioning: 1242\n",
      "Data loaded successfully.\n"
     ]
    },
    {
     "name": "stderr",
     "output_type": "stream",
     "text": [
      "                                                                                "
     ]
    },
    {
     "name": "stdout",
     "output_type": "stream",
     "text": [
      "Total rows: 1242\n"
     ]
    },
    {
     "name": "stderr",
     "output_type": "stream",
     "text": [
      "                                                                                "
     ]
    },
    {
     "name": "stdout",
     "output_type": "stream",
     "text": [
      "[Row(sentiment='positive', count=690), Row(sentiment='negative', count=492), Row(sentiment='neutral', count=61)] for partition ('v', 'z')\n",
      "\n",
      "Final aggregated sentiment counts across all partitions:\n",
      "positive: 4497\n",
      "negative: 3052\n",
      "neutral: 434\n",
      "Running with workers=2, data_fraction=0.04, cores=4...\n",
      "Loading partition: ('a', 'g')\n",
      "Reconstructing lyrics...\n",
      "Lyrics reconstructed.\n"
     ]
    },
    {
     "name": "stderr",
     "output_type": "stream",
     "text": [
      "                                                                                "
     ]
    },
    {
     "name": "stdout",
     "output_type": "stream",
     "text": [
      "full_lyrics_df: 56960\n"
     ]
    },
    {
     "name": "stderr",
     "output_type": "stream",
     "text": [
      "                                                                                "
     ]
    },
    {
     "name": "stdout",
     "output_type": "stream",
     "text": [
      "Sample data rows after fractioning: 2251\n",
      "Data loaded successfully.\n"
     ]
    },
    {
     "name": "stderr",
     "output_type": "stream",
     "text": [
      "                                                                                "
     ]
    },
    {
     "name": "stdout",
     "output_type": "stream",
     "text": [
      "Total rows: 2251\n"
     ]
    },
    {
     "name": "stderr",
     "output_type": "stream",
     "text": [
      "                                                                                "
     ]
    },
    {
     "name": "stdout",
     "output_type": "stream",
     "text": [
      "[Row(sentiment='positive', count=1284), Row(sentiment='negative', count=835), Row(sentiment='neutral', count=132)] for partition ('a', 'g')\n",
      "Loading partition: ('h', 'n')\n",
      "Reconstructing lyrics...\n",
      "Lyrics reconstructed.\n"
     ]
    },
    {
     "name": "stderr",
     "output_type": "stream",
     "text": [
      "                                                                                "
     ]
    },
    {
     "name": "stdout",
     "output_type": "stream",
     "text": [
      "full_lyrics_df: 56804\n"
     ]
    },
    {
     "name": "stderr",
     "output_type": "stream",
     "text": [
      "                                                                                "
     ]
    },
    {
     "name": "stdout",
     "output_type": "stream",
     "text": [
      "Sample data rows after fractioning: 2244\n",
      "Data loaded successfully.\n"
     ]
    },
    {
     "name": "stderr",
     "output_type": "stream",
     "text": [
      "                                                                                "
     ]
    },
    {
     "name": "stdout",
     "output_type": "stream",
     "text": [
      "Total rows: 2244\n"
     ]
    },
    {
     "name": "stderr",
     "output_type": "stream",
     "text": [
      "                                                                                "
     ]
    },
    {
     "name": "stdout",
     "output_type": "stream",
     "text": [
      "[Row(sentiment='positive', count=1274), Row(sentiment='negative', count=847), Row(sentiment='neutral', count=124)] for partition ('h', 'n')\n",
      "Loading partition: ('o', 'u')\n",
      "Reconstructing lyrics...\n",
      "Lyrics reconstructed.\n"
     ]
    },
    {
     "name": "stderr",
     "output_type": "stream",
     "text": [
      "                                                                                "
     ]
    },
    {
     "name": "stdout",
     "output_type": "stream",
     "text": [
      "full_lyrics_df: 56812\n"
     ]
    },
    {
     "name": "stderr",
     "output_type": "stream",
     "text": [
      "                                                                                "
     ]
    },
    {
     "name": "stdout",
     "output_type": "stream",
     "text": [
      "Sample data rows after fractioning: 2245\n",
      "Data loaded successfully.\n"
     ]
    },
    {
     "name": "stderr",
     "output_type": "stream",
     "text": [
      "                                                                                "
     ]
    },
    {
     "name": "stdout",
     "output_type": "stream",
     "text": [
      "Total rows: 2245\n"
     ]
    },
    {
     "name": "stderr",
     "output_type": "stream",
     "text": [
      "                                                                                "
     ]
    },
    {
     "name": "stdout",
     "output_type": "stream",
     "text": [
      "[Row(sentiment='positive', count=1249), Row(sentiment='neutral', count=117), Row(sentiment='negative', count=878)] for partition ('o', 'u')\n",
      "Loading partition: ('v', 'z')\n",
      "Reconstructing lyrics...\n",
      "Lyrics reconstructed.\n"
     ]
    },
    {
     "name": "stderr",
     "output_type": "stream",
     "text": [
      "                                                                                "
     ]
    },
    {
     "name": "stdout",
     "output_type": "stream",
     "text": [
      "full_lyrics_df: 32082\n"
     ]
    },
    {
     "name": "stderr",
     "output_type": "stream",
     "text": [
      "                                                                                "
     ]
    },
    {
     "name": "stdout",
     "output_type": "stream",
     "text": [
      "Sample data rows after fractioning: 1242\n",
      "Data loaded successfully.\n"
     ]
    },
    {
     "name": "stderr",
     "output_type": "stream",
     "text": [
      "                                                                                "
     ]
    },
    {
     "name": "stdout",
     "output_type": "stream",
     "text": [
      "Total rows: 1242\n"
     ]
    },
    {
     "name": "stderr",
     "output_type": "stream",
     "text": [
      "                                                                                "
     ]
    },
    {
     "name": "stdout",
     "output_type": "stream",
     "text": [
      "[Row(sentiment='positive', count=690), Row(sentiment='negative', count=492), Row(sentiment='neutral', count=61)] for partition ('v', 'z')\n",
      "\n",
      "Final aggregated sentiment counts across all partitions:\n",
      "positive: 4497\n",
      "negative: 3052\n",
      "neutral: 434\n",
      "Running with workers=2, data_fraction=0.08, cores=1...\n",
      "Loading partition: ('a', 'g')\n",
      "Reconstructing lyrics...\n",
      "Lyrics reconstructed.\n"
     ]
    },
    {
     "name": "stderr",
     "output_type": "stream",
     "text": [
      "                                                                                "
     ]
    },
    {
     "name": "stdout",
     "output_type": "stream",
     "text": [
      "full_lyrics_df: 56960\n"
     ]
    },
    {
     "name": "stderr",
     "output_type": "stream",
     "text": [
      "                                                                                "
     ]
    },
    {
     "name": "stdout",
     "output_type": "stream",
     "text": [
      "Sample data rows after fractioning: 4612\n",
      "Data loaded successfully.\n"
     ]
    },
    {
     "name": "stderr",
     "output_type": "stream",
     "text": [
      "                                                                                "
     ]
    },
    {
     "name": "stdout",
     "output_type": "stream",
     "text": [
      "Total rows: 4612\n"
     ]
    },
    {
     "name": "stderr",
     "output_type": "stream",
     "text": [
      "                                                                                "
     ]
    },
    {
     "name": "stdout",
     "output_type": "stream",
     "text": [
      "[Row(sentiment='positive', count=2644), Row(sentiment='negative', count=1713), Row(sentiment='neutral', count=255)] for partition ('a', 'g')\n",
      "Loading partition: ('h', 'n')\n",
      "Reconstructing lyrics...\n",
      "Lyrics reconstructed.\n"
     ]
    },
    {
     "name": "stderr",
     "output_type": "stream",
     "text": [
      "                                                                                "
     ]
    },
    {
     "name": "stdout",
     "output_type": "stream",
     "text": [
      "full_lyrics_df: 56804\n"
     ]
    },
    {
     "name": "stderr",
     "output_type": "stream",
     "text": [
      "                                                                                "
     ]
    },
    {
     "name": "stdout",
     "output_type": "stream",
     "text": [
      "Sample data rows after fractioning: 4598\n",
      "Data loaded successfully.\n"
     ]
    },
    {
     "name": "stderr",
     "output_type": "stream",
     "text": [
      "                                                                                "
     ]
    },
    {
     "name": "stdout",
     "output_type": "stream",
     "text": [
      "Total rows: 4598\n"
     ]
    },
    {
     "name": "stderr",
     "output_type": "stream",
     "text": [
      "                                                                                "
     ]
    },
    {
     "name": "stdout",
     "output_type": "stream",
     "text": [
      "[Row(sentiment='positive', count=2572), Row(sentiment='neutral', count=263), Row(sentiment='negative', count=1764)] for partition ('h', 'n')\n",
      "Loading partition: ('o', 'u')\n",
      "Reconstructing lyrics...\n",
      "Lyrics reconstructed.\n"
     ]
    },
    {
     "name": "stderr",
     "output_type": "stream",
     "text": [
      "                                                                                "
     ]
    },
    {
     "name": "stdout",
     "output_type": "stream",
     "text": [
      "full_lyrics_df: 56812\n"
     ]
    },
    {
     "name": "stderr",
     "output_type": "stream",
     "text": [
      "                                                                                "
     ]
    },
    {
     "name": "stdout",
     "output_type": "stream",
     "text": [
      "Sample data rows after fractioning: 4600\n",
      "Data loaded successfully.\n"
     ]
    },
    {
     "name": "stderr",
     "output_type": "stream",
     "text": [
      "                                                                                "
     ]
    },
    {
     "name": "stdout",
     "output_type": "stream",
     "text": [
      "Total rows: 4600\n"
     ]
    },
    {
     "name": "stderr",
     "output_type": "stream",
     "text": [
      "                                                                                "
     ]
    },
    {
     "name": "stdout",
     "output_type": "stream",
     "text": [
      "[Row(sentiment='positive', count=2593), Row(sentiment='neutral', count=239), Row(sentiment='negative', count=1767)] for partition ('o', 'u')\n",
      "Loading partition: ('v', 'z')\n",
      "Reconstructing lyrics...\n",
      "Lyrics reconstructed.\n"
     ]
    },
    {
     "name": "stderr",
     "output_type": "stream",
     "text": [
      "                                                                                "
     ]
    },
    {
     "name": "stdout",
     "output_type": "stream",
     "text": [
      "full_lyrics_df: 32082\n"
     ]
    },
    {
     "name": "stderr",
     "output_type": "stream",
     "text": [
      "                                                                                "
     ]
    },
    {
     "name": "stdout",
     "output_type": "stream",
     "text": [
      "Sample data rows after fractioning: 2603\n",
      "Data loaded successfully.\n"
     ]
    },
    {
     "name": "stderr",
     "output_type": "stream",
     "text": [
      "                                                                                "
     ]
    },
    {
     "name": "stdout",
     "output_type": "stream",
     "text": [
      "Total rows: 2603\n"
     ]
    },
    {
     "name": "stderr",
     "output_type": "stream",
     "text": [
      "                                                                                "
     ]
    },
    {
     "name": "stdout",
     "output_type": "stream",
     "text": [
      "[Row(sentiment='positive', count=1499), Row(sentiment='negative', count=980), Row(sentiment='neutral', count=126)] for partition ('v', 'z')\n",
      "\n",
      "Final aggregated sentiment counts across all partitions:\n",
      "positive: 9308\n",
      "negative: 6224\n",
      "neutral: 883\n",
      "Running with workers=2, data_fraction=0.08, cores=2...\n",
      "Loading partition: ('a', 'g')\n",
      "Reconstructing lyrics...\n",
      "Lyrics reconstructed.\n"
     ]
    },
    {
     "name": "stderr",
     "output_type": "stream",
     "text": [
      "                                                                                "
     ]
    },
    {
     "name": "stdout",
     "output_type": "stream",
     "text": [
      "full_lyrics_df: 56960\n"
     ]
    },
    {
     "name": "stderr",
     "output_type": "stream",
     "text": [
      "                                                                                "
     ]
    },
    {
     "name": "stdout",
     "output_type": "stream",
     "text": [
      "Sample data rows after fractioning: 4612\n",
      "Data loaded successfully.\n"
     ]
    },
    {
     "name": "stderr",
     "output_type": "stream",
     "text": [
      "                                                                                "
     ]
    },
    {
     "name": "stdout",
     "output_type": "stream",
     "text": [
      "Total rows: 4612\n"
     ]
    },
    {
     "name": "stderr",
     "output_type": "stream",
     "text": [
      "                                                                                "
     ]
    },
    {
     "name": "stdout",
     "output_type": "stream",
     "text": [
      "[Row(sentiment='positive', count=2644), Row(sentiment='negative', count=1713), Row(sentiment='neutral', count=255)] for partition ('a', 'g')\n",
      "Loading partition: ('h', 'n')\n",
      "Reconstructing lyrics...\n",
      "Lyrics reconstructed.\n"
     ]
    },
    {
     "name": "stderr",
     "output_type": "stream",
     "text": [
      "                                                                                "
     ]
    },
    {
     "name": "stdout",
     "output_type": "stream",
     "text": [
      "full_lyrics_df: 56804\n"
     ]
    },
    {
     "name": "stderr",
     "output_type": "stream",
     "text": [
      "                                                                                "
     ]
    },
    {
     "name": "stdout",
     "output_type": "stream",
     "text": [
      "Sample data rows after fractioning: 4598\n",
      "Data loaded successfully.\n"
     ]
    },
    {
     "name": "stderr",
     "output_type": "stream",
     "text": [
      "                                                                                "
     ]
    },
    {
     "name": "stdout",
     "output_type": "stream",
     "text": [
      "Total rows: 4598\n"
     ]
    },
    {
     "name": "stderr",
     "output_type": "stream",
     "text": [
      "                                                                                "
     ]
    },
    {
     "name": "stdout",
     "output_type": "stream",
     "text": [
      "[Row(sentiment='positive', count=2572), Row(sentiment='neutral', count=263), Row(sentiment='negative', count=1764)] for partition ('h', 'n')\n",
      "Loading partition: ('o', 'u')\n",
      "Reconstructing lyrics...\n",
      "Lyrics reconstructed.\n"
     ]
    },
    {
     "name": "stderr",
     "output_type": "stream",
     "text": [
      "                                                                                "
     ]
    },
    {
     "name": "stdout",
     "output_type": "stream",
     "text": [
      "full_lyrics_df: 56812\n"
     ]
    },
    {
     "name": "stderr",
     "output_type": "stream",
     "text": [
      "                                                                                "
     ]
    },
    {
     "name": "stdout",
     "output_type": "stream",
     "text": [
      "Sample data rows after fractioning: 4600\n",
      "Data loaded successfully.\n"
     ]
    },
    {
     "name": "stderr",
     "output_type": "stream",
     "text": [
      "                                                                                "
     ]
    },
    {
     "name": "stdout",
     "output_type": "stream",
     "text": [
      "Total rows: 4600\n"
     ]
    },
    {
     "name": "stderr",
     "output_type": "stream",
     "text": [
      "                                                                                "
     ]
    },
    {
     "name": "stdout",
     "output_type": "stream",
     "text": [
      "[Row(sentiment='positive', count=2593), Row(sentiment='neutral', count=239), Row(sentiment='negative', count=1767)] for partition ('o', 'u')\n",
      "Loading partition: ('v', 'z')\n",
      "Reconstructing lyrics...\n",
      "Lyrics reconstructed.\n"
     ]
    },
    {
     "name": "stderr",
     "output_type": "stream",
     "text": [
      "                                                                                "
     ]
    },
    {
     "name": "stdout",
     "output_type": "stream",
     "text": [
      "full_lyrics_df: 32082\n"
     ]
    },
    {
     "name": "stderr",
     "output_type": "stream",
     "text": [
      "                                                                                "
     ]
    },
    {
     "name": "stdout",
     "output_type": "stream",
     "text": [
      "Sample data rows after fractioning: 2603\n",
      "Data loaded successfully.\n"
     ]
    },
    {
     "name": "stderr",
     "output_type": "stream",
     "text": [
      "                                                                                "
     ]
    },
    {
     "name": "stdout",
     "output_type": "stream",
     "text": [
      "Total rows: 2603\n"
     ]
    },
    {
     "name": "stderr",
     "output_type": "stream",
     "text": [
      "                                                                                "
     ]
    },
    {
     "name": "stdout",
     "output_type": "stream",
     "text": [
      "[Row(sentiment='positive', count=1499), Row(sentiment='negative', count=980), Row(sentiment='neutral', count=126)] for partition ('v', 'z')\n",
      "\n",
      "Final aggregated sentiment counts across all partitions:\n",
      "positive: 9308\n",
      "negative: 6224\n",
      "neutral: 883\n",
      "Running with workers=2, data_fraction=0.08, cores=4...\n",
      "Loading partition: ('a', 'g')\n",
      "Reconstructing lyrics...\n",
      "Lyrics reconstructed.\n"
     ]
    },
    {
     "name": "stderr",
     "output_type": "stream",
     "text": [
      "                                                                                "
     ]
    },
    {
     "name": "stdout",
     "output_type": "stream",
     "text": [
      "full_lyrics_df: 56960\n"
     ]
    },
    {
     "name": "stderr",
     "output_type": "stream",
     "text": [
      "                                                                                "
     ]
    },
    {
     "name": "stdout",
     "output_type": "stream",
     "text": [
      "Sample data rows after fractioning: 4612\n",
      "Data loaded successfully.\n"
     ]
    },
    {
     "name": "stderr",
     "output_type": "stream",
     "text": [
      "                                                                                "
     ]
    },
    {
     "name": "stdout",
     "output_type": "stream",
     "text": [
      "Total rows: 4612\n"
     ]
    },
    {
     "name": "stderr",
     "output_type": "stream",
     "text": [
      "                                                                                "
     ]
    },
    {
     "name": "stdout",
     "output_type": "stream",
     "text": [
      "[Row(sentiment='positive', count=2644), Row(sentiment='negative', count=1713), Row(sentiment='neutral', count=255)] for partition ('a', 'g')\n",
      "Loading partition: ('h', 'n')\n",
      "Reconstructing lyrics...\n",
      "Lyrics reconstructed.\n"
     ]
    },
    {
     "name": "stderr",
     "output_type": "stream",
     "text": [
      "                                                                                "
     ]
    },
    {
     "name": "stdout",
     "output_type": "stream",
     "text": [
      "full_lyrics_df: 56804\n"
     ]
    },
    {
     "name": "stderr",
     "output_type": "stream",
     "text": [
      "                                                                                "
     ]
    },
    {
     "name": "stdout",
     "output_type": "stream",
     "text": [
      "Sample data rows after fractioning: 4598\n",
      "Data loaded successfully.\n"
     ]
    },
    {
     "name": "stderr",
     "output_type": "stream",
     "text": [
      "                                                                                "
     ]
    },
    {
     "name": "stdout",
     "output_type": "stream",
     "text": [
      "Total rows: 4598\n"
     ]
    },
    {
     "name": "stderr",
     "output_type": "stream",
     "text": [
      "                                                                                "
     ]
    },
    {
     "name": "stdout",
     "output_type": "stream",
     "text": [
      "[Row(sentiment='positive', count=2572), Row(sentiment='neutral', count=263), Row(sentiment='negative', count=1764)] for partition ('h', 'n')\n",
      "Loading partition: ('o', 'u')\n",
      "Reconstructing lyrics...\n",
      "Lyrics reconstructed.\n"
     ]
    },
    {
     "name": "stderr",
     "output_type": "stream",
     "text": [
      "                                                                                "
     ]
    },
    {
     "name": "stdout",
     "output_type": "stream",
     "text": [
      "full_lyrics_df: 56812\n"
     ]
    },
    {
     "name": "stderr",
     "output_type": "stream",
     "text": [
      "                                                                                "
     ]
    },
    {
     "name": "stdout",
     "output_type": "stream",
     "text": [
      "Sample data rows after fractioning: 4600\n",
      "Data loaded successfully.\n"
     ]
    },
    {
     "name": "stderr",
     "output_type": "stream",
     "text": [
      "[Stage 182:=============================================>           (4 + 1) / 5]"
     ]
    },
    {
     "name": "stdout",
     "output_type": "stream",
     "text": [
      "Total rows: 4600\n"
     ]
    },
    {
     "name": "stderr",
     "output_type": "stream",
     "text": [
      "                                                                                "
     ]
    },
    {
     "name": "stdout",
     "output_type": "stream",
     "text": [
      "[Row(sentiment='positive', count=2593), Row(sentiment='neutral', count=239), Row(sentiment='negative', count=1767)] for partition ('o', 'u')\n",
      "Loading partition: ('v', 'z')\n",
      "Reconstructing lyrics...\n",
      "Lyrics reconstructed.\n"
     ]
    },
    {
     "name": "stderr",
     "output_type": "stream",
     "text": [
      "                                                                                "
     ]
    },
    {
     "name": "stdout",
     "output_type": "stream",
     "text": [
      "full_lyrics_df: 32082\n"
     ]
    },
    {
     "name": "stderr",
     "output_type": "stream",
     "text": [
      "                                                                                "
     ]
    },
    {
     "name": "stdout",
     "output_type": "stream",
     "text": [
      "Sample data rows after fractioning: 2603\n",
      "Data loaded successfully.\n"
     ]
    },
    {
     "name": "stderr",
     "output_type": "stream",
     "text": [
      "                                                                                "
     ]
    },
    {
     "name": "stdout",
     "output_type": "stream",
     "text": [
      "Total rows: 2603\n"
     ]
    },
    {
     "name": "stderr",
     "output_type": "stream",
     "text": [
      "                                                                                "
     ]
    },
    {
     "name": "stdout",
     "output_type": "stream",
     "text": [
      "[Row(sentiment='positive', count=1499), Row(sentiment='negative', count=980), Row(sentiment='neutral', count=126)] for partition ('v', 'z')\n",
      "\n",
      "Final aggregated sentiment counts across all partitions:\n",
      "positive: 9308\n",
      "negative: 6224\n",
      "neutral: 883\n",
      "Running with workers=4, data_fraction=0.01, cores=1...\n",
      "Loading partition: ('a', 'g')\n",
      "Reconstructing lyrics...\n",
      "Lyrics reconstructed.\n"
     ]
    },
    {
     "name": "stderr",
     "output_type": "stream",
     "text": [
      "                                                                                "
     ]
    },
    {
     "name": "stdout",
     "output_type": "stream",
     "text": [
      "full_lyrics_df: 56960\n"
     ]
    },
    {
     "name": "stderr",
     "output_type": "stream",
     "text": [
      "                                                                                "
     ]
    },
    {
     "name": "stdout",
     "output_type": "stream",
     "text": [
      "Sample data rows after fractioning: 567\n",
      "Data loaded successfully.\n"
     ]
    },
    {
     "name": "stderr",
     "output_type": "stream",
     "text": [
      "                                                                                "
     ]
    },
    {
     "name": "stdout",
     "output_type": "stream",
     "text": [
      "Total rows: 567\n"
     ]
    },
    {
     "name": "stderr",
     "output_type": "stream",
     "text": [
      "                                                                                "
     ]
    },
    {
     "name": "stdout",
     "output_type": "stream",
     "text": [
      "[Row(sentiment='positive', count=316), Row(sentiment='negative', count=226), Row(sentiment='neutral', count=25)] for partition ('a', 'g')\n",
      "Loading partition: ('h', 'n')\n",
      "Reconstructing lyrics...\n",
      "Lyrics reconstructed.\n"
     ]
    },
    {
     "name": "stderr",
     "output_type": "stream",
     "text": [
      "                                                                                "
     ]
    },
    {
     "name": "stdout",
     "output_type": "stream",
     "text": [
      "full_lyrics_df: 56804\n"
     ]
    },
    {
     "name": "stderr",
     "output_type": "stream",
     "text": [
      "                                                                                "
     ]
    },
    {
     "name": "stdout",
     "output_type": "stream",
     "text": [
      "Sample data rows after fractioning: 565\n",
      "Data loaded successfully.\n"
     ]
    },
    {
     "name": "stderr",
     "output_type": "stream",
     "text": [
      "                                                                                "
     ]
    },
    {
     "name": "stdout",
     "output_type": "stream",
     "text": [
      "Total rows: 565\n"
     ]
    },
    {
     "name": "stderr",
     "output_type": "stream",
     "text": [
      "                                                                                "
     ]
    },
    {
     "name": "stdout",
     "output_type": "stream",
     "text": [
      "[Row(sentiment='positive', count=322), Row(sentiment='negative', count=212), Row(sentiment='neutral', count=31)] for partition ('h', 'n')\n",
      "Loading partition: ('o', 'u')\n",
      "Reconstructing lyrics...\n",
      "Lyrics reconstructed.\n"
     ]
    },
    {
     "name": "stderr",
     "output_type": "stream",
     "text": [
      "                                                                                "
     ]
    },
    {
     "name": "stdout",
     "output_type": "stream",
     "text": [
      "full_lyrics_df: 56812\n"
     ]
    },
    {
     "name": "stderr",
     "output_type": "stream",
     "text": [
      "                                                                                "
     ]
    },
    {
     "name": "stdout",
     "output_type": "stream",
     "text": [
      "Sample data rows after fractioning: 565\n",
      "Data loaded successfully.\n"
     ]
    },
    {
     "name": "stderr",
     "output_type": "stream",
     "text": [
      "                                                                                "
     ]
    },
    {
     "name": "stdout",
     "output_type": "stream",
     "text": [
      "Total rows: 565\n"
     ]
    },
    {
     "name": "stderr",
     "output_type": "stream",
     "text": [
      "                                                                                "
     ]
    },
    {
     "name": "stdout",
     "output_type": "stream",
     "text": [
      "[Row(sentiment='positive', count=311), Row(sentiment='negative', count=221), Row(sentiment='neutral', count=33)] for partition ('o', 'u')\n",
      "Loading partition: ('v', 'z')\n",
      "Reconstructing lyrics...\n",
      "Lyrics reconstructed.\n"
     ]
    },
    {
     "name": "stderr",
     "output_type": "stream",
     "text": [
      "                                                                                "
     ]
    },
    {
     "name": "stdout",
     "output_type": "stream",
     "text": [
      "full_lyrics_df: 32082\n"
     ]
    },
    {
     "name": "stderr",
     "output_type": "stream",
     "text": [
      "                                                                                "
     ]
    },
    {
     "name": "stdout",
     "output_type": "stream",
     "text": [
      "Sample data rows after fractioning: 301\n",
      "Data loaded successfully.\n"
     ]
    },
    {
     "name": "stderr",
     "output_type": "stream",
     "text": [
      "                                                                                "
     ]
    },
    {
     "name": "stdout",
     "output_type": "stream",
     "text": [
      "Total rows: 301\n"
     ]
    },
    {
     "name": "stderr",
     "output_type": "stream",
     "text": [
      "                                                                                "
     ]
    },
    {
     "name": "stdout",
     "output_type": "stream",
     "text": [
      "[Row(sentiment='positive', count=160), Row(sentiment='neutral', count=13), Row(sentiment='negative', count=128)] for partition ('v', 'z')\n",
      "\n",
      "Final aggregated sentiment counts across all partitions:\n",
      "positive: 1109\n",
      "negative: 787\n",
      "neutral: 102\n",
      "Running with workers=4, data_fraction=0.01, cores=2...\n",
      "Loading partition: ('a', 'g')\n",
      "Reconstructing lyrics...\n",
      "Lyrics reconstructed.\n"
     ]
    },
    {
     "name": "stderr",
     "output_type": "stream",
     "text": [
      "                                                                                "
     ]
    },
    {
     "name": "stdout",
     "output_type": "stream",
     "text": [
      "full_lyrics_df: 56960\n"
     ]
    },
    {
     "name": "stderr",
     "output_type": "stream",
     "text": [
      "                                                                                "
     ]
    },
    {
     "name": "stdout",
     "output_type": "stream",
     "text": [
      "Sample data rows after fractioning: 567\n",
      "Data loaded successfully.\n"
     ]
    },
    {
     "name": "stderr",
     "output_type": "stream",
     "text": [
      "                                                                                "
     ]
    },
    {
     "name": "stdout",
     "output_type": "stream",
     "text": [
      "Total rows: 567\n"
     ]
    },
    {
     "name": "stderr",
     "output_type": "stream",
     "text": [
      "                                                                                "
     ]
    },
    {
     "name": "stdout",
     "output_type": "stream",
     "text": [
      "[Row(sentiment='positive', count=316), Row(sentiment='negative', count=226), Row(sentiment='neutral', count=25)] for partition ('a', 'g')\n",
      "Loading partition: ('h', 'n')\n",
      "Reconstructing lyrics...\n",
      "Lyrics reconstructed.\n"
     ]
    },
    {
     "name": "stderr",
     "output_type": "stream",
     "text": [
      "                                                                                "
     ]
    },
    {
     "name": "stdout",
     "output_type": "stream",
     "text": [
      "full_lyrics_df: 56804\n"
     ]
    },
    {
     "name": "stderr",
     "output_type": "stream",
     "text": [
      "                                                                                "
     ]
    },
    {
     "name": "stdout",
     "output_type": "stream",
     "text": [
      "Sample data rows after fractioning: 565\n",
      "Data loaded successfully.\n"
     ]
    },
    {
     "name": "stderr",
     "output_type": "stream",
     "text": [
      "                                                                                "
     ]
    },
    {
     "name": "stdout",
     "output_type": "stream",
     "text": [
      "Total rows: 565\n"
     ]
    },
    {
     "name": "stderr",
     "output_type": "stream",
     "text": [
      "                                                                                "
     ]
    },
    {
     "name": "stdout",
     "output_type": "stream",
     "text": [
      "[Row(sentiment='positive', count=322), Row(sentiment='negative', count=212), Row(sentiment='neutral', count=31)] for partition ('h', 'n')\n",
      "Loading partition: ('o', 'u')\n",
      "Reconstructing lyrics...\n",
      "Lyrics reconstructed.\n"
     ]
    },
    {
     "name": "stderr",
     "output_type": "stream",
     "text": [
      "                                                                                "
     ]
    },
    {
     "name": "stdout",
     "output_type": "stream",
     "text": [
      "full_lyrics_df: 56812\n"
     ]
    },
    {
     "name": "stderr",
     "output_type": "stream",
     "text": [
      "                                                                                "
     ]
    },
    {
     "name": "stdout",
     "output_type": "stream",
     "text": [
      "Sample data rows after fractioning: 565\n",
      "Data loaded successfully.\n"
     ]
    },
    {
     "name": "stderr",
     "output_type": "stream",
     "text": [
      "                                                                                "
     ]
    },
    {
     "name": "stdout",
     "output_type": "stream",
     "text": [
      "Total rows: 565\n"
     ]
    },
    {
     "name": "stderr",
     "output_type": "stream",
     "text": [
      "                                                                                "
     ]
    },
    {
     "name": "stdout",
     "output_type": "stream",
     "text": [
      "[Row(sentiment='positive', count=311), Row(sentiment='negative', count=221), Row(sentiment='neutral', count=33)] for partition ('o', 'u')\n",
      "Loading partition: ('v', 'z')\n",
      "Reconstructing lyrics...\n",
      "Lyrics reconstructed.\n"
     ]
    },
    {
     "name": "stderr",
     "output_type": "stream",
     "text": [
      "                                                                                "
     ]
    },
    {
     "name": "stdout",
     "output_type": "stream",
     "text": [
      "full_lyrics_df: 32082\n"
     ]
    },
    {
     "name": "stderr",
     "output_type": "stream",
     "text": [
      "                                                                                "
     ]
    },
    {
     "name": "stdout",
     "output_type": "stream",
     "text": [
      "Sample data rows after fractioning: 301\n",
      "Data loaded successfully.\n"
     ]
    },
    {
     "name": "stderr",
     "output_type": "stream",
     "text": [
      "                                                                                "
     ]
    },
    {
     "name": "stdout",
     "output_type": "stream",
     "text": [
      "Total rows: 301\n"
     ]
    },
    {
     "name": "stderr",
     "output_type": "stream",
     "text": [
      "                                                                                "
     ]
    },
    {
     "name": "stdout",
     "output_type": "stream",
     "text": [
      "[Row(sentiment='positive', count=160), Row(sentiment='neutral', count=13), Row(sentiment='negative', count=128)] for partition ('v', 'z')\n",
      "\n",
      "Final aggregated sentiment counts across all partitions:\n",
      "positive: 1109\n",
      "negative: 787\n",
      "neutral: 102\n",
      "Running with workers=4, data_fraction=0.01, cores=4...\n",
      "Loading partition: ('a', 'g')\n",
      "Reconstructing lyrics...\n",
      "Lyrics reconstructed.\n"
     ]
    },
    {
     "name": "stderr",
     "output_type": "stream",
     "text": [
      "                                                                                "
     ]
    },
    {
     "name": "stdout",
     "output_type": "stream",
     "text": [
      "full_lyrics_df: 56960\n"
     ]
    },
    {
     "name": "stderr",
     "output_type": "stream",
     "text": [
      "                                                                                "
     ]
    },
    {
     "name": "stdout",
     "output_type": "stream",
     "text": [
      "Sample data rows after fractioning: 567\n",
      "Data loaded successfully.\n"
     ]
    },
    {
     "name": "stderr",
     "output_type": "stream",
     "text": [
      "                                                                                "
     ]
    },
    {
     "name": "stdout",
     "output_type": "stream",
     "text": [
      "Total rows: 567\n"
     ]
    },
    {
     "name": "stderr",
     "output_type": "stream",
     "text": [
      "                                                                                "
     ]
    },
    {
     "name": "stdout",
     "output_type": "stream",
     "text": [
      "[Row(sentiment='positive', count=316), Row(sentiment='negative', count=226), Row(sentiment='neutral', count=25)] for partition ('a', 'g')\n",
      "Loading partition: ('h', 'n')\n",
      "Reconstructing lyrics...\n",
      "Lyrics reconstructed.\n"
     ]
    },
    {
     "name": "stderr",
     "output_type": "stream",
     "text": [
      "                                                                                "
     ]
    },
    {
     "name": "stdout",
     "output_type": "stream",
     "text": [
      "full_lyrics_df: 56804\n"
     ]
    },
    {
     "name": "stderr",
     "output_type": "stream",
     "text": [
      "                                                                                "
     ]
    },
    {
     "name": "stdout",
     "output_type": "stream",
     "text": [
      "Sample data rows after fractioning: 565\n",
      "Data loaded successfully.\n"
     ]
    },
    {
     "name": "stderr",
     "output_type": "stream",
     "text": [
      "                                                                                "
     ]
    },
    {
     "name": "stdout",
     "output_type": "stream",
     "text": [
      "Total rows: 565\n"
     ]
    },
    {
     "name": "stderr",
     "output_type": "stream",
     "text": [
      "                                                                                "
     ]
    },
    {
     "name": "stdout",
     "output_type": "stream",
     "text": [
      "[Row(sentiment='positive', count=322), Row(sentiment='negative', count=212), Row(sentiment='neutral', count=31)] for partition ('h', 'n')\n",
      "Loading partition: ('o', 'u')\n",
      "Reconstructing lyrics...\n",
      "Lyrics reconstructed.\n"
     ]
    },
    {
     "name": "stderr",
     "output_type": "stream",
     "text": [
      "                                                                                "
     ]
    },
    {
     "name": "stdout",
     "output_type": "stream",
     "text": [
      "full_lyrics_df: 56812\n"
     ]
    },
    {
     "name": "stderr",
     "output_type": "stream",
     "text": [
      "                                                                                "
     ]
    },
    {
     "name": "stdout",
     "output_type": "stream",
     "text": [
      "Sample data rows after fractioning: 565\n",
      "Data loaded successfully.\n"
     ]
    },
    {
     "name": "stderr",
     "output_type": "stream",
     "text": [
      "                                                                                "
     ]
    },
    {
     "name": "stdout",
     "output_type": "stream",
     "text": [
      "Total rows: 565\n"
     ]
    },
    {
     "name": "stderr",
     "output_type": "stream",
     "text": [
      "                                                                                "
     ]
    },
    {
     "name": "stdout",
     "output_type": "stream",
     "text": [
      "[Row(sentiment='positive', count=311), Row(sentiment='negative', count=221), Row(sentiment='neutral', count=33)] for partition ('o', 'u')\n",
      "Loading partition: ('v', 'z')\n",
      "Reconstructing lyrics...\n",
      "Lyrics reconstructed.\n"
     ]
    },
    {
     "name": "stderr",
     "output_type": "stream",
     "text": [
      "                                                                                "
     ]
    },
    {
     "name": "stdout",
     "output_type": "stream",
     "text": [
      "full_lyrics_df: 32082\n"
     ]
    },
    {
     "name": "stderr",
     "output_type": "stream",
     "text": [
      "                                                                                "
     ]
    },
    {
     "name": "stdout",
     "output_type": "stream",
     "text": [
      "Sample data rows after fractioning: 301\n",
      "Data loaded successfully.\n"
     ]
    },
    {
     "name": "stderr",
     "output_type": "stream",
     "text": [
      "                                                                                "
     ]
    },
    {
     "name": "stdout",
     "output_type": "stream",
     "text": [
      "Total rows: 301\n"
     ]
    },
    {
     "name": "stderr",
     "output_type": "stream",
     "text": [
      "                                                                                "
     ]
    },
    {
     "name": "stdout",
     "output_type": "stream",
     "text": [
      "[Row(sentiment='positive', count=160), Row(sentiment='neutral', count=13), Row(sentiment='negative', count=128)] for partition ('v', 'z')\n",
      "\n",
      "Final aggregated sentiment counts across all partitions:\n",
      "positive: 1109\n",
      "negative: 787\n",
      "neutral: 102\n",
      "Running with workers=4, data_fraction=0.04, cores=1...\n",
      "Loading partition: ('a', 'g')\n",
      "Reconstructing lyrics...\n",
      "Lyrics reconstructed.\n"
     ]
    },
    {
     "name": "stderr",
     "output_type": "stream",
     "text": [
      "                                                                                "
     ]
    },
    {
     "name": "stdout",
     "output_type": "stream",
     "text": [
      "full_lyrics_df: 56960\n"
     ]
    },
    {
     "name": "stderr",
     "output_type": "stream",
     "text": [
      "                                                                                "
     ]
    },
    {
     "name": "stdout",
     "output_type": "stream",
     "text": [
      "Sample data rows after fractioning: 2251\n",
      "Data loaded successfully.\n"
     ]
    },
    {
     "name": "stderr",
     "output_type": "stream",
     "text": [
      "                                                                                "
     ]
    },
    {
     "name": "stdout",
     "output_type": "stream",
     "text": [
      "Total rows: 2251\n"
     ]
    },
    {
     "name": "stderr",
     "output_type": "stream",
     "text": [
      "                                                                                "
     ]
    },
    {
     "name": "stdout",
     "output_type": "stream",
     "text": [
      "[Row(sentiment='positive', count=1284), Row(sentiment='negative', count=835), Row(sentiment='neutral', count=132)] for partition ('a', 'g')\n",
      "Loading partition: ('h', 'n')\n",
      "Reconstructing lyrics...\n",
      "Lyrics reconstructed.\n"
     ]
    },
    {
     "name": "stderr",
     "output_type": "stream",
     "text": [
      "                                                                                "
     ]
    },
    {
     "name": "stdout",
     "output_type": "stream",
     "text": [
      "full_lyrics_df: 56804\n"
     ]
    },
    {
     "name": "stderr",
     "output_type": "stream",
     "text": [
      "                                                                                "
     ]
    },
    {
     "name": "stdout",
     "output_type": "stream",
     "text": [
      "Sample data rows after fractioning: 2244\n",
      "Data loaded successfully.\n"
     ]
    },
    {
     "name": "stderr",
     "output_type": "stream",
     "text": [
      "                                                                                "
     ]
    },
    {
     "name": "stdout",
     "output_type": "stream",
     "text": [
      "Total rows: 2244\n"
     ]
    },
    {
     "name": "stderr",
     "output_type": "stream",
     "text": [
      "                                                                                "
     ]
    },
    {
     "name": "stdout",
     "output_type": "stream",
     "text": [
      "[Row(sentiment='positive', count=1274), Row(sentiment='negative', count=847), Row(sentiment='neutral', count=124)] for partition ('h', 'n')\n",
      "Loading partition: ('o', 'u')\n",
      "Reconstructing lyrics...\n",
      "Lyrics reconstructed.\n"
     ]
    },
    {
     "name": "stderr",
     "output_type": "stream",
     "text": [
      "                                                                                "
     ]
    },
    {
     "name": "stdout",
     "output_type": "stream",
     "text": [
      "full_lyrics_df: 56812\n"
     ]
    },
    {
     "name": "stderr",
     "output_type": "stream",
     "text": [
      "                                                                                "
     ]
    },
    {
     "name": "stdout",
     "output_type": "stream",
     "text": [
      "Sample data rows after fractioning: 2245\n",
      "Data loaded successfully.\n"
     ]
    },
    {
     "name": "stderr",
     "output_type": "stream",
     "text": [
      "                                                                                "
     ]
    },
    {
     "name": "stdout",
     "output_type": "stream",
     "text": [
      "Total rows: 2245\n"
     ]
    },
    {
     "name": "stderr",
     "output_type": "stream",
     "text": [
      "                                                                                "
     ]
    },
    {
     "name": "stdout",
     "output_type": "stream",
     "text": [
      "[Row(sentiment='positive', count=1249), Row(sentiment='neutral', count=117), Row(sentiment='negative', count=878)] for partition ('o', 'u')\n",
      "Loading partition: ('v', 'z')\n",
      "Reconstructing lyrics...\n",
      "Lyrics reconstructed.\n"
     ]
    },
    {
     "name": "stderr",
     "output_type": "stream",
     "text": [
      "                                                                                "
     ]
    },
    {
     "name": "stdout",
     "output_type": "stream",
     "text": [
      "full_lyrics_df: 32082\n"
     ]
    },
    {
     "name": "stderr",
     "output_type": "stream",
     "text": [
      "                                                                                "
     ]
    },
    {
     "name": "stdout",
     "output_type": "stream",
     "text": [
      "Sample data rows after fractioning: 1242\n",
      "Data loaded successfully.\n"
     ]
    },
    {
     "name": "stderr",
     "output_type": "stream",
     "text": [
      "                                                                                "
     ]
    },
    {
     "name": "stdout",
     "output_type": "stream",
     "text": [
      "Total rows: 1242\n"
     ]
    },
    {
     "name": "stderr",
     "output_type": "stream",
     "text": [
      "                                                                                "
     ]
    },
    {
     "name": "stdout",
     "output_type": "stream",
     "text": [
      "[Row(sentiment='positive', count=690), Row(sentiment='negative', count=492), Row(sentiment='neutral', count=61)] for partition ('v', 'z')\n",
      "\n",
      "Final aggregated sentiment counts across all partitions:\n",
      "positive: 4497\n",
      "negative: 3052\n",
      "neutral: 434\n",
      "Running with workers=4, data_fraction=0.04, cores=2...\n",
      "Loading partition: ('a', 'g')\n",
      "Reconstructing lyrics...\n",
      "Lyrics reconstructed.\n"
     ]
    },
    {
     "name": "stderr",
     "output_type": "stream",
     "text": [
      "                                                                                "
     ]
    },
    {
     "name": "stdout",
     "output_type": "stream",
     "text": [
      "full_lyrics_df: 56960\n"
     ]
    },
    {
     "name": "stderr",
     "output_type": "stream",
     "text": [
      "                                                                                "
     ]
    },
    {
     "name": "stdout",
     "output_type": "stream",
     "text": [
      "Sample data rows after fractioning: 2251\n",
      "Data loaded successfully.\n"
     ]
    },
    {
     "name": "stderr",
     "output_type": "stream",
     "text": [
      "                                                                                "
     ]
    },
    {
     "name": "stdout",
     "output_type": "stream",
     "text": [
      "Total rows: 2251\n"
     ]
    },
    {
     "name": "stderr",
     "output_type": "stream",
     "text": [
      "                                                                                "
     ]
    },
    {
     "name": "stdout",
     "output_type": "stream",
     "text": [
      "[Row(sentiment='positive', count=1284), Row(sentiment='negative', count=835), Row(sentiment='neutral', count=132)] for partition ('a', 'g')\n",
      "Loading partition: ('h', 'n')\n",
      "Reconstructing lyrics...\n",
      "Lyrics reconstructed.\n"
     ]
    },
    {
     "name": "stderr",
     "output_type": "stream",
     "text": [
      "                                                                                "
     ]
    },
    {
     "name": "stdout",
     "output_type": "stream",
     "text": [
      "full_lyrics_df: 56804\n"
     ]
    },
    {
     "name": "stderr",
     "output_type": "stream",
     "text": [
      "                                                                                "
     ]
    },
    {
     "name": "stdout",
     "output_type": "stream",
     "text": [
      "Sample data rows after fractioning: 2244\n",
      "Data loaded successfully.\n"
     ]
    },
    {
     "name": "stderr",
     "output_type": "stream",
     "text": [
      "                                                                                "
     ]
    },
    {
     "name": "stdout",
     "output_type": "stream",
     "text": [
      "Total rows: 2244\n"
     ]
    },
    {
     "name": "stderr",
     "output_type": "stream",
     "text": [
      "                                                                                "
     ]
    },
    {
     "name": "stdout",
     "output_type": "stream",
     "text": [
      "[Row(sentiment='positive', count=1274), Row(sentiment='negative', count=847), Row(sentiment='neutral', count=124)] for partition ('h', 'n')\n",
      "Loading partition: ('o', 'u')\n",
      "Reconstructing lyrics...\n",
      "Lyrics reconstructed.\n"
     ]
    },
    {
     "name": "stderr",
     "output_type": "stream",
     "text": [
      "                                                                                "
     ]
    },
    {
     "name": "stdout",
     "output_type": "stream",
     "text": [
      "full_lyrics_df: 56812\n"
     ]
    },
    {
     "name": "stderr",
     "output_type": "stream",
     "text": [
      "                                                                                "
     ]
    },
    {
     "name": "stdout",
     "output_type": "stream",
     "text": [
      "Sample data rows after fractioning: 2245\n",
      "Data loaded successfully.\n"
     ]
    },
    {
     "name": "stderr",
     "output_type": "stream",
     "text": [
      "                                                                                "
     ]
    },
    {
     "name": "stdout",
     "output_type": "stream",
     "text": [
      "Total rows: 2245\n"
     ]
    },
    {
     "name": "stderr",
     "output_type": "stream",
     "text": [
      "                                                                                "
     ]
    },
    {
     "name": "stdout",
     "output_type": "stream",
     "text": [
      "[Row(sentiment='positive', count=1249), Row(sentiment='neutral', count=117), Row(sentiment='negative', count=878)] for partition ('o', 'u')\n",
      "Loading partition: ('v', 'z')\n",
      "Reconstructing lyrics...\n",
      "Lyrics reconstructed.\n"
     ]
    },
    {
     "name": "stderr",
     "output_type": "stream",
     "text": [
      "                                                                                "
     ]
    },
    {
     "name": "stdout",
     "output_type": "stream",
     "text": [
      "full_lyrics_df: 32082\n"
     ]
    },
    {
     "name": "stderr",
     "output_type": "stream",
     "text": [
      "                                                                                "
     ]
    },
    {
     "name": "stdout",
     "output_type": "stream",
     "text": [
      "Sample data rows after fractioning: 1242\n",
      "Data loaded successfully.\n"
     ]
    },
    {
     "name": "stderr",
     "output_type": "stream",
     "text": [
      "                                                                                "
     ]
    },
    {
     "name": "stdout",
     "output_type": "stream",
     "text": [
      "Total rows: 1242\n"
     ]
    },
    {
     "name": "stderr",
     "output_type": "stream",
     "text": [
      "                                                                                "
     ]
    },
    {
     "name": "stdout",
     "output_type": "stream",
     "text": [
      "[Row(sentiment='positive', count=690), Row(sentiment='negative', count=492), Row(sentiment='neutral', count=61)] for partition ('v', 'z')\n",
      "\n",
      "Final aggregated sentiment counts across all partitions:\n",
      "positive: 4497\n",
      "negative: 3052\n",
      "neutral: 434\n",
      "Running with workers=4, data_fraction=0.04, cores=4...\n",
      "Loading partition: ('a', 'g')\n",
      "Reconstructing lyrics...\n",
      "Lyrics reconstructed.\n"
     ]
    },
    {
     "name": "stderr",
     "output_type": "stream",
     "text": [
      "                                                                                "
     ]
    },
    {
     "name": "stdout",
     "output_type": "stream",
     "text": [
      "full_lyrics_df: 56960\n"
     ]
    },
    {
     "name": "stderr",
     "output_type": "stream",
     "text": [
      "                                                                                "
     ]
    },
    {
     "name": "stdout",
     "output_type": "stream",
     "text": [
      "Sample data rows after fractioning: 2251\n",
      "Data loaded successfully.\n"
     ]
    },
    {
     "name": "stderr",
     "output_type": "stream",
     "text": [
      "                                                                                "
     ]
    },
    {
     "name": "stdout",
     "output_type": "stream",
     "text": [
      "Total rows: 2251\n"
     ]
    },
    {
     "name": "stderr",
     "output_type": "stream",
     "text": [
      "                                                                                "
     ]
    },
    {
     "name": "stdout",
     "output_type": "stream",
     "text": [
      "[Row(sentiment='positive', count=1262), Row(sentiment='negative', count=866), Row(sentiment='neutral', count=123)] for partition ('a', 'g')\n",
      "Loading partition: ('h', 'n')\n",
      "Reconstructing lyrics...\n",
      "Lyrics reconstructed.\n"
     ]
    },
    {
     "name": "stderr",
     "output_type": "stream",
     "text": [
      "                                                                                "
     ]
    },
    {
     "name": "stdout",
     "output_type": "stream",
     "text": [
      "full_lyrics_df: 56804\n"
     ]
    },
    {
     "name": "stderr",
     "output_type": "stream",
     "text": [
      "                                                                                "
     ]
    },
    {
     "name": "stdout",
     "output_type": "stream",
     "text": [
      "Sample data rows after fractioning: 2244\n",
      "Data loaded successfully.\n"
     ]
    },
    {
     "name": "stderr",
     "output_type": "stream",
     "text": [
      "                                                                                "
     ]
    },
    {
     "name": "stdout",
     "output_type": "stream",
     "text": [
      "Total rows: 2244\n"
     ]
    },
    {
     "name": "stderr",
     "output_type": "stream",
     "text": [
      "                                                                                "
     ]
    },
    {
     "name": "stdout",
     "output_type": "stream",
     "text": [
      "[Row(sentiment='positive', count=1274), Row(sentiment='negative', count=847), Row(sentiment='neutral', count=124)] for partition ('h', 'n')\n",
      "Loading partition: ('o', 'u')\n",
      "Reconstructing lyrics...\n",
      "Lyrics reconstructed.\n"
     ]
    },
    {
     "name": "stderr",
     "output_type": "stream",
     "text": [
      "                                                                                "
     ]
    },
    {
     "name": "stdout",
     "output_type": "stream",
     "text": [
      "full_lyrics_df: 56812\n"
     ]
    },
    {
     "name": "stderr",
     "output_type": "stream",
     "text": [
      "                                                                                "
     ]
    },
    {
     "name": "stdout",
     "output_type": "stream",
     "text": [
      "Sample data rows after fractioning: 2245\n",
      "Data loaded successfully.\n"
     ]
    },
    {
     "name": "stderr",
     "output_type": "stream",
     "text": [
      "                                                                                "
     ]
    },
    {
     "name": "stdout",
     "output_type": "stream",
     "text": [
      "Total rows: 2245\n"
     ]
    },
    {
     "name": "stderr",
     "output_type": "stream",
     "text": [
      "                                                                                "
     ]
    },
    {
     "name": "stdout",
     "output_type": "stream",
     "text": [
      "[Row(sentiment='positive', count=1249), Row(sentiment='neutral', count=117), Row(sentiment='negative', count=878)] for partition ('o', 'u')\n",
      "Loading partition: ('v', 'z')\n",
      "Reconstructing lyrics...\n",
      "Lyrics reconstructed.\n"
     ]
    },
    {
     "name": "stderr",
     "output_type": "stream",
     "text": [
      "                                                                                "
     ]
    },
    {
     "name": "stdout",
     "output_type": "stream",
     "text": [
      "full_lyrics_df: 32082\n"
     ]
    },
    {
     "name": "stderr",
     "output_type": "stream",
     "text": [
      "                                                                                "
     ]
    },
    {
     "name": "stdout",
     "output_type": "stream",
     "text": [
      "Sample data rows after fractioning: 1242\n",
      "Data loaded successfully.\n"
     ]
    },
    {
     "name": "stderr",
     "output_type": "stream",
     "text": [
      "                                                                                "
     ]
    },
    {
     "name": "stdout",
     "output_type": "stream",
     "text": [
      "Total rows: 1242\n"
     ]
    },
    {
     "name": "stderr",
     "output_type": "stream",
     "text": [
      "                                                                                "
     ]
    },
    {
     "name": "stdout",
     "output_type": "stream",
     "text": [
      "[Row(sentiment='positive', count=690), Row(sentiment='negative', count=492), Row(sentiment='neutral', count=61)] for partition ('v', 'z')\n",
      "\n",
      "Final aggregated sentiment counts across all partitions:\n",
      "positive: 4475\n",
      "negative: 3083\n",
      "neutral: 425\n",
      "Running with workers=4, data_fraction=0.08, cores=1...\n",
      "Loading partition: ('a', 'g')\n",
      "Reconstructing lyrics...\n",
      "Lyrics reconstructed.\n"
     ]
    },
    {
     "name": "stderr",
     "output_type": "stream",
     "text": [
      "                                                                                "
     ]
    },
    {
     "name": "stdout",
     "output_type": "stream",
     "text": [
      "full_lyrics_df: 56960\n"
     ]
    },
    {
     "name": "stderr",
     "output_type": "stream",
     "text": [
      "                                                                                "
     ]
    },
    {
     "name": "stdout",
     "output_type": "stream",
     "text": [
      "Sample data rows after fractioning: 4612\n",
      "Data loaded successfully.\n"
     ]
    },
    {
     "name": "stderr",
     "output_type": "stream",
     "text": [
      "                                                                                "
     ]
    },
    {
     "name": "stdout",
     "output_type": "stream",
     "text": [
      "Total rows: 4612\n"
     ]
    },
    {
     "name": "stderr",
     "output_type": "stream",
     "text": [
      "                                                                                "
     ]
    },
    {
     "name": "stdout",
     "output_type": "stream",
     "text": [
      "[Row(sentiment='positive', count=2644), Row(sentiment='negative', count=1713), Row(sentiment='neutral', count=255)] for partition ('a', 'g')\n",
      "Loading partition: ('h', 'n')\n",
      "Reconstructing lyrics...\n",
      "Lyrics reconstructed.\n"
     ]
    },
    {
     "name": "stderr",
     "output_type": "stream",
     "text": [
      "                                                                                "
     ]
    },
    {
     "name": "stdout",
     "output_type": "stream",
     "text": [
      "full_lyrics_df: 56804\n"
     ]
    },
    {
     "name": "stderr",
     "output_type": "stream",
     "text": [
      "                                                                                "
     ]
    },
    {
     "name": "stdout",
     "output_type": "stream",
     "text": [
      "Sample data rows after fractioning: 4598\n",
      "Data loaded successfully.\n"
     ]
    },
    {
     "name": "stderr",
     "output_type": "stream",
     "text": [
      "                                                                                "
     ]
    },
    {
     "name": "stdout",
     "output_type": "stream",
     "text": [
      "Total rows: 4598\n"
     ]
    },
    {
     "name": "stderr",
     "output_type": "stream",
     "text": [
      "                                                                                "
     ]
    },
    {
     "name": "stdout",
     "output_type": "stream",
     "text": [
      "[Row(sentiment='positive', count=2572), Row(sentiment='neutral', count=263), Row(sentiment='negative', count=1764)] for partition ('h', 'n')\n",
      "Loading partition: ('o', 'u')\n",
      "Reconstructing lyrics...\n",
      "Lyrics reconstructed.\n"
     ]
    },
    {
     "name": "stderr",
     "output_type": "stream",
     "text": [
      "                                                                                "
     ]
    },
    {
     "name": "stdout",
     "output_type": "stream",
     "text": [
      "full_lyrics_df: 56812\n"
     ]
    },
    {
     "name": "stderr",
     "output_type": "stream",
     "text": [
      "                                                                                "
     ]
    },
    {
     "name": "stdout",
     "output_type": "stream",
     "text": [
      "Sample data rows after fractioning: 4600\n",
      "Data loaded successfully.\n"
     ]
    },
    {
     "name": "stderr",
     "output_type": "stream",
     "text": [
      "                                                                                "
     ]
    },
    {
     "name": "stdout",
     "output_type": "stream",
     "text": [
      "Total rows: 4600\n"
     ]
    },
    {
     "name": "stderr",
     "output_type": "stream",
     "text": [
      "                                                                                "
     ]
    },
    {
     "name": "stdout",
     "output_type": "stream",
     "text": [
      "[Row(sentiment='positive', count=2593), Row(sentiment='neutral', count=239), Row(sentiment='negative', count=1767)] for partition ('o', 'u')\n",
      "Loading partition: ('v', 'z')\n",
      "Reconstructing lyrics...\n",
      "Lyrics reconstructed.\n"
     ]
    },
    {
     "name": "stderr",
     "output_type": "stream",
     "text": [
      "                                                                                "
     ]
    },
    {
     "name": "stdout",
     "output_type": "stream",
     "text": [
      "full_lyrics_df: 32082\n"
     ]
    },
    {
     "name": "stderr",
     "output_type": "stream",
     "text": [
      "                                                                                "
     ]
    },
    {
     "name": "stdout",
     "output_type": "stream",
     "text": [
      "Sample data rows after fractioning: 2603\n",
      "Data loaded successfully.\n"
     ]
    },
    {
     "name": "stderr",
     "output_type": "stream",
     "text": [
      "                                                                                "
     ]
    },
    {
     "name": "stdout",
     "output_type": "stream",
     "text": [
      "Total rows: 2603\n"
     ]
    },
    {
     "name": "stderr",
     "output_type": "stream",
     "text": [
      "                                                                                "
     ]
    },
    {
     "name": "stdout",
     "output_type": "stream",
     "text": [
      "[Row(sentiment='positive', count=1499), Row(sentiment='negative', count=980), Row(sentiment='neutral', count=126)] for partition ('v', 'z')\n",
      "\n",
      "Final aggregated sentiment counts across all partitions:\n",
      "positive: 9308\n",
      "negative: 6224\n",
      "neutral: 883\n",
      "Running with workers=4, data_fraction=0.08, cores=2...\n",
      "Loading partition: ('a', 'g')\n",
      "Reconstructing lyrics...\n",
      "Lyrics reconstructed.\n"
     ]
    },
    {
     "name": "stderr",
     "output_type": "stream",
     "text": [
      "                                                                                "
     ]
    },
    {
     "name": "stdout",
     "output_type": "stream",
     "text": [
      "full_lyrics_df: 56960\n"
     ]
    },
    {
     "name": "stderr",
     "output_type": "stream",
     "text": [
      "                                                                                "
     ]
    },
    {
     "name": "stdout",
     "output_type": "stream",
     "text": [
      "Sample data rows after fractioning: 4612\n",
      "Data loaded successfully.\n"
     ]
    },
    {
     "name": "stderr",
     "output_type": "stream",
     "text": [
      "                                                                                "
     ]
    },
    {
     "name": "stdout",
     "output_type": "stream",
     "text": [
      "Total rows: 4612\n"
     ]
    },
    {
     "name": "stderr",
     "output_type": "stream",
     "text": [
      "                                                                                "
     ]
    },
    {
     "name": "stdout",
     "output_type": "stream",
     "text": [
      "[Row(sentiment='positive', count=2644), Row(sentiment='negative', count=1713), Row(sentiment='neutral', count=255)] for partition ('a', 'g')\n",
      "Loading partition: ('h', 'n')\n",
      "Reconstructing lyrics...\n",
      "Lyrics reconstructed.\n"
     ]
    },
    {
     "name": "stderr",
     "output_type": "stream",
     "text": [
      "                                                                                "
     ]
    },
    {
     "name": "stdout",
     "output_type": "stream",
     "text": [
      "full_lyrics_df: 56804\n"
     ]
    },
    {
     "name": "stderr",
     "output_type": "stream",
     "text": [
      "                                                                                "
     ]
    },
    {
     "name": "stdout",
     "output_type": "stream",
     "text": [
      "Sample data rows after fractioning: 4598\n",
      "Data loaded successfully.\n"
     ]
    },
    {
     "name": "stderr",
     "output_type": "stream",
     "text": [
      "                                                                                "
     ]
    },
    {
     "name": "stdout",
     "output_type": "stream",
     "text": [
      "Total rows: 4598\n"
     ]
    },
    {
     "name": "stderr",
     "output_type": "stream",
     "text": [
      "                                                                                "
     ]
    },
    {
     "name": "stdout",
     "output_type": "stream",
     "text": [
      "[Row(sentiment='positive', count=2572), Row(sentiment='neutral', count=263), Row(sentiment='negative', count=1764)] for partition ('h', 'n')\n",
      "Loading partition: ('o', 'u')\n",
      "Reconstructing lyrics...\n",
      "Lyrics reconstructed.\n"
     ]
    },
    {
     "name": "stderr",
     "output_type": "stream",
     "text": [
      "                                                                                "
     ]
    },
    {
     "name": "stdout",
     "output_type": "stream",
     "text": [
      "full_lyrics_df: 56812\n"
     ]
    },
    {
     "name": "stderr",
     "output_type": "stream",
     "text": [
      "                                                                                "
     ]
    },
    {
     "name": "stdout",
     "output_type": "stream",
     "text": [
      "Sample data rows after fractioning: 4600\n",
      "Data loaded successfully.\n"
     ]
    },
    {
     "name": "stderr",
     "output_type": "stream",
     "text": [
      "                                                                                "
     ]
    },
    {
     "name": "stdout",
     "output_type": "stream",
     "text": [
      "Total rows: 4600\n"
     ]
    },
    {
     "name": "stderr",
     "output_type": "stream",
     "text": [
      "                                                                                "
     ]
    },
    {
     "name": "stdout",
     "output_type": "stream",
     "text": [
      "[Row(sentiment='positive', count=2593), Row(sentiment='neutral', count=239), Row(sentiment='negative', count=1767)] for partition ('o', 'u')\n",
      "Loading partition: ('v', 'z')\n",
      "Reconstructing lyrics...\n",
      "Lyrics reconstructed.\n"
     ]
    },
    {
     "name": "stderr",
     "output_type": "stream",
     "text": [
      "                                                                                "
     ]
    },
    {
     "name": "stdout",
     "output_type": "stream",
     "text": [
      "full_lyrics_df: 32082\n"
     ]
    },
    {
     "name": "stderr",
     "output_type": "stream",
     "text": [
      "                                                                                "
     ]
    },
    {
     "name": "stdout",
     "output_type": "stream",
     "text": [
      "Sample data rows after fractioning: 2603\n",
      "Data loaded successfully.\n"
     ]
    },
    {
     "name": "stderr",
     "output_type": "stream",
     "text": [
      "                                                                                "
     ]
    },
    {
     "name": "stdout",
     "output_type": "stream",
     "text": [
      "Total rows: 2603\n"
     ]
    },
    {
     "name": "stderr",
     "output_type": "stream",
     "text": [
      "                                                                                "
     ]
    },
    {
     "name": "stdout",
     "output_type": "stream",
     "text": [
      "[Row(sentiment='positive', count=1499), Row(sentiment='negative', count=980), Row(sentiment='neutral', count=126)] for partition ('v', 'z')\n",
      "\n",
      "Final aggregated sentiment counts across all partitions:\n",
      "positive: 9308\n",
      "negative: 6224\n",
      "neutral: 883\n",
      "Running with workers=4, data_fraction=0.08, cores=4...\n",
      "Loading partition: ('a', 'g')\n",
      "Reconstructing lyrics...\n",
      "Lyrics reconstructed.\n"
     ]
    },
    {
     "name": "stderr",
     "output_type": "stream",
     "text": [
      "                                                                                "
     ]
    },
    {
     "name": "stdout",
     "output_type": "stream",
     "text": [
      "full_lyrics_df: 56960\n"
     ]
    },
    {
     "name": "stderr",
     "output_type": "stream",
     "text": [
      "                                                                                "
     ]
    },
    {
     "name": "stdout",
     "output_type": "stream",
     "text": [
      "Sample data rows after fractioning: 4612\n",
      "Data loaded successfully.\n"
     ]
    },
    {
     "name": "stderr",
     "output_type": "stream",
     "text": [
      "                                                                                "
     ]
    },
    {
     "name": "stdout",
     "output_type": "stream",
     "text": [
      "Total rows: 4612\n"
     ]
    },
    {
     "name": "stderr",
     "output_type": "stream",
     "text": [
      "                                                                                "
     ]
    },
    {
     "name": "stdout",
     "output_type": "stream",
     "text": [
      "[Row(sentiment='positive', count=2644), Row(sentiment='negative', count=1713), Row(sentiment='neutral', count=255)] for partition ('a', 'g')\n",
      "Loading partition: ('h', 'n')\n",
      "Reconstructing lyrics...\n",
      "Lyrics reconstructed.\n"
     ]
    },
    {
     "name": "stderr",
     "output_type": "stream",
     "text": [
      "                                                                                "
     ]
    },
    {
     "name": "stdout",
     "output_type": "stream",
     "text": [
      "full_lyrics_df: 56804\n"
     ]
    },
    {
     "name": "stderr",
     "output_type": "stream",
     "text": [
      "                                                                                "
     ]
    },
    {
     "name": "stdout",
     "output_type": "stream",
     "text": [
      "Sample data rows after fractioning: 4598\n",
      "Data loaded successfully.\n"
     ]
    },
    {
     "name": "stderr",
     "output_type": "stream",
     "text": [
      "                                                                                "
     ]
    },
    {
     "name": "stdout",
     "output_type": "stream",
     "text": [
      "Total rows: 4598\n"
     ]
    },
    {
     "name": "stderr",
     "output_type": "stream",
     "text": [
      "                                                                                "
     ]
    },
    {
     "name": "stdout",
     "output_type": "stream",
     "text": [
      "[Row(sentiment='positive', count=2572), Row(sentiment='neutral', count=263), Row(sentiment='negative', count=1764)] for partition ('h', 'n')\n",
      "Loading partition: ('o', 'u')\n",
      "Reconstructing lyrics...\n",
      "Lyrics reconstructed.\n"
     ]
    },
    {
     "name": "stderr",
     "output_type": "stream",
     "text": [
      "                                                                                "
     ]
    },
    {
     "name": "stdout",
     "output_type": "stream",
     "text": [
      "full_lyrics_df: 56812\n"
     ]
    },
    {
     "name": "stderr",
     "output_type": "stream",
     "text": [
      "                                                                                "
     ]
    },
    {
     "name": "stdout",
     "output_type": "stream",
     "text": [
      "Sample data rows after fractioning: 4600\n",
      "Data loaded successfully.\n"
     ]
    },
    {
     "name": "stderr",
     "output_type": "stream",
     "text": [
      "                                                                                "
     ]
    },
    {
     "name": "stdout",
     "output_type": "stream",
     "text": [
      "Total rows: 4600\n"
     ]
    },
    {
     "name": "stderr",
     "output_type": "stream",
     "text": [
      "                                                                                "
     ]
    },
    {
     "name": "stdout",
     "output_type": "stream",
     "text": [
      "[Row(sentiment='positive', count=2593), Row(sentiment='neutral', count=239), Row(sentiment='negative', count=1767)] for partition ('o', 'u')\n",
      "Loading partition: ('v', 'z')\n",
      "Reconstructing lyrics...\n",
      "Lyrics reconstructed.\n"
     ]
    },
    {
     "name": "stderr",
     "output_type": "stream",
     "text": [
      "                                                                                "
     ]
    },
    {
     "name": "stdout",
     "output_type": "stream",
     "text": [
      "full_lyrics_df: 32082\n"
     ]
    },
    {
     "name": "stderr",
     "output_type": "stream",
     "text": [
      "                                                                                "
     ]
    },
    {
     "name": "stdout",
     "output_type": "stream",
     "text": [
      "Sample data rows after fractioning: 2603\n",
      "Data loaded successfully.\n"
     ]
    },
    {
     "name": "stderr",
     "output_type": "stream",
     "text": [
      "                                                                                "
     ]
    },
    {
     "name": "stdout",
     "output_type": "stream",
     "text": [
      "Total rows: 2603\n"
     ]
    },
    {
     "name": "stderr",
     "output_type": "stream",
     "text": [
      "                                                                                "
     ]
    },
    {
     "name": "stdout",
     "output_type": "stream",
     "text": [
      "[Row(sentiment='positive', count=1499), Row(sentiment='negative', count=980), Row(sentiment='neutral', count=126)] for partition ('v', 'z')\n",
      "\n",
      "Final aggregated sentiment counts across all partitions:\n",
      "positive: 9308\n",
      "negative: 6224\n",
      "neutral: 883\n",
      "Experiment results saved to 'experiment_results.json'.\n"
     ]
    }
   ],
   "source": [
    "# Import necessary libraries\n",
    "from pyspark.sql import SparkSession, SQLContext\n",
    "from pyspark.sql.functions import col, concat_ws, collect_list\n",
    "from vaderSentiment.vaderSentiment import SentimentIntensityAnalyzer\n",
    "import time\n",
    "import json\n",
    "from operator import add\n",
    "import sys\n",
    "\n",
    "# Add necessary paths\n",
    "sys.path.append('/home/ubuntu/spark/python/lib/py4j-0.10.9.7-src.zip')\n",
    "sys.path.append('/home/ubuntu/spark/python')\n",
    "\n",
    "# Set JDBC driver path\n",
    "jdbc_driver_path = \"/home/ubuntu/postgresql-42.3.5.jar\"\n",
    "\n",
    "# Create a Spark session (reuse or create new)\n",
    "def create_spark_session(workers, cores):\n",
    "    try:\n",
    "        if not SparkSession.builder.getOrCreate().sparkContext._activeContext:\n",
    "            raise Exception(\"SparkContext has been stopped.\")\n",
    "    except Exception:\n",
    "        spark = SparkSession.builder \\\n",
    "            .master(\"spark://192.168.2.114:7077\") \\\n",
    "            .appName(\"Lyrics Sentiment Analysis\") \\\n",
    "            .config(\"spark.executor.cores\", cores) \\\n",
    "            .config(\"spark.executor.instances\", workers) \\\n",
    "            .config(\"spark.jars\", jdbc_driver_path) \\\n",
    "            .config(\"spark.driver.extraClassPath\", jdbc_driver_path) \\\n",
    "            .config(\"spark.executor.extraClassPath\", jdbc_driver_path) \\\n",
    "            .config(\"spark.sql.shuffle.partitions\", 200) \\\n",
    "            .config(\"spark.executor.memory\", \"4g\") \\\n",
    "            .config(\"spark.driver.memory\", \"4g\") \\\n",
    "            .config(\"spark.ui.port\", \"4044\") \\\n",
    "            .getOrCreate()\n",
    "\n",
    "    sc = spark.sparkContext.setLogLevel(\"ERROR\")\n",
    "    return spark\n",
    "\n",
    "# Sentiment analyzer\n",
    "analyzer = SentimentIntensityAnalyzer()\n",
    "\n",
    "# Database connection info\n",
    "DB_URL = \"jdbc:postgresql://192.168.2.114:5432/lyricsdb\"\n",
    "DB_PROPERTIES = {\"user\": \"sparkuser\", \"password\": \"9567\", \"driver\": \"org.postgresql.Driver\"}\n",
    "\n",
    "def analyze_sentiment(text):\n",
    "    score = analyzer.polarity_scores(text)[\"compound\"]\n",
    "    return \"positive\" if score > 0.05 else \"negative\" if score < -0.05 else \"neutral\"\n",
    "\n",
    "def run_experiment(workers, data_fraction, cores):\n",
    "    spark = create_spark_session(workers, cores)\n",
    "\n",
    "    print(f\"Running with workers={workers}, data_fraction={data_fraction}, cores={cores}...\")\n",
    "\n",
    "    sqlContext = SQLContext(spark)\n",
    "    words_df = sqlContext.read.jdbc(DB_URL, \"words\", properties=DB_PROPERTIES)\n",
    "\n",
    "    total_sentiment_counts = {\"positive\": 0, \"negative\": 0, \"neutral\": 0}\n",
    "\n",
    "    start_time = time.time()\n",
    "\n",
    "    for partition in [('a', 'g'), ('h', 'n'), ('o', 'u'), ('v', 'z')]:\n",
    "        print(f\"Loading partition: {partition}\")\n",
    "        table = \"lyrics_\" + partition[0] + \"_\" + partition[1]\n",
    "        lyrics_df = sqlContext.read.jdbc(DB_URL, table, properties=DB_PROPERTIES)\n",
    "\n",
    "        print(\"Reconstructing lyrics...\")\n",
    "        full_lyrics_df = lyrics_df.join(words_df, \"word_id\") \\\n",
    "            .groupBy(\"track_id\") \\\n",
    "            .agg(concat_ws(\" \", collect_list(\"word\")).alias(\"lyrics\"))\n",
    "        print(\"Lyrics reconstructed.\")\n",
    "\n",
    "        print(f\"full_lyrics_df: {full_lyrics_df.count()}\")\n",
    "\n",
    "        full_lyrics_df = full_lyrics_df.repartition(100)\n",
    "        sample_df = full_lyrics_df.sample(fraction=data_fraction, seed=42)\n",
    "\n",
    "        print(f\"Sample data rows after fractioning: {sample_df.count()}\")\n",
    "\n",
    "        print(\"Data loaded successfully.\")\n",
    "\n",
    "        sentiment_udf = spark.udf.register(\"sentiment\", analyze_sentiment)\n",
    "        sentiment_df = sample_df.withColumn(\"sentiment\", sentiment_udf(col(\"lyrics\")))\n",
    "        print(f\"Total rows: {sentiment_df.count()}\")\n",
    "\n",
    "        sentiment_df = sentiment_df.repartition(200)\n",
    "\n",
    "        sentiment_counts = sentiment_df.groupBy(\"sentiment\").count().collect()\n",
    "\n",
    "        print(sentiment_counts, \"for partition\", partition)\n",
    "\n",
    "        # Update total sentiment counts\n",
    "        for row in sentiment_counts:\n",
    "            sentiment = row[\"sentiment\"]\n",
    "            count = row[\"count\"]\n",
    "            total_sentiment_counts[sentiment] += count\n",
    "\n",
    "    elapsed_time = time.time() - start_time\n",
    "\n",
    "    print(\"\\nFinal aggregated sentiment counts across all partitions:\")\n",
    "    for sentiment, count in total_sentiment_counts.items():\n",
    "        print(f\"{sentiment}: {count}\")\n",
    "\n",
    "    spark.stop()\n",
    "\n",
    "    return {\n",
    "        \"workers\": workers,\n",
    "        \"data_fraction\": data_fraction,\n",
    "        \"cores\": cores,\n",
    "        \"time\": elapsed_time,\n",
    "        \"sentiment_counts\": total_sentiment_counts\n",
    "    }\n",
    "if __name__ == \"__main__\":\n",
    "    # List of parameters to loop through\n",
    "    workers_list = [1, 2, 4]\n",
    "    fractions = [0.01, 0.04, 0.08]\n",
    "    cores_list = [1, 2, 4]\n",
    "\n",
    "    results = []\n",
    "\n",
    "    for workers in workers_list:\n",
    "        for data_fraction in fractions:\n",
    "            for cores in cores_list:\n",
    "                result = run_experiment(workers, data_fraction, cores)\n",
    "                if result is None:  # If process was terminated due to empty DataFrames\n",
    "                    continue\n",
    "                results.append(result)\n",
    "\n",
    "    # Write results to JSON file\n",
    "    with open(\"experiment_results.json\", \"w\") as outfile:\n",
    "        json.dump(results, outfile, indent=4)\n",
    "\n",
    "    print(\"Experiment results saved to 'experiment_results.json'.\")\n",
    "\n",
    "    # result = run_experiment(workers = 4, data_fraction = 0.01, cores = 1)\n",
    "    # print(result)"
   ]
  }
 ],
 "metadata": {
  "kernelspec": {
   "display_name": "Python 3 (ipykernel)",
   "language": "python",
   "name": "python3"
  },
  "language_info": {
   "codemirror_mode": {
    "name": "ipython",
    "version": 3
   },
   "file_extension": ".py",
   "mimetype": "text/x-python",
   "name": "python",
   "nbconvert_exporter": "python",
   "pygments_lexer": "ipython3",
   "version": "3.10.12"
  }
 },
 "nbformat": 4,
 "nbformat_minor": 5
}
